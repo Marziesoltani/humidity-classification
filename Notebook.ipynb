{
  "nbformat": 4,
  "nbformat_minor": 0,
  "metadata": {
    "colab": {
      "name": "Humidity Classification of Meteorological Stations in Iran",
      "provenance": [],
      "collapsed_sections": [
        "xqxazBE6jN_L",
        "lptMHpno-P02",
        "cB0RwP3B-Kkn",
        "VvU-nVziUY-N",
        "g4p7lRrd0XSw",
        "P10n_4N2a32J",
        "Z-Cq5zHQvxAZ",
        "0-aubKWinuyJ"
      ],
      "authorship_tag": "ABX9TyMbr5aXMEpIa2TjhYVhGg+4",
      "include_colab_link": true
    },
    "kernelspec": {
      "name": "python3",
      "display_name": "Python 3"
    }
  },
  "cells": [
    {
      "cell_type": "markdown",
      "metadata": {
        "id": "view-in-github",
        "colab_type": "text"
      },
      "source": [
        "<a href=\"https://colab.research.google.com/github/Marziesoltani/humidity-classification/blob/main/Notebook.ipynb\" target=\"_parent\"><img src=\"https://colab.research.google.com/assets/colab-badge.svg\" alt=\"Open In Colab\"/></a>"
      ]
    },
    {
      "cell_type": "code",
      "metadata": {
        "id": "nBhQm9eVvqAy",
        "colab": {
          "base_uri": "https://localhost:8080/",
          "height": 35
        },
        "outputId": "4ed65c9c-3ad7-488a-e3cb-94ea37b6c54d"
      },
      "source": [
        "from google.colab import drive\n",
        "drive.mount('/content/drive')"
      ],
      "execution_count": null,
      "outputs": [
        {
          "output_type": "stream",
          "text": [
            "Drive already mounted at /content/drive; to attempt to forcibly remount, call drive.mount(\"/content/drive\", force_remount=True).\n"
          ],
          "name": "stdout"
        }
      ]
    },
    {
      "cell_type": "code",
      "metadata": {
        "id": "CuLraOasjLJI",
        "colab": {
          "base_uri": "https://localhost:8080/",
          "height": 35
        },
        "outputId": "d8d28e79-c46f-4673-96ca-c6d81f587c28"
      },
      "source": [
        "%cd /content/drive/My Drive/Data Analysis"
      ],
      "execution_count": null,
      "outputs": [
        {
          "output_type": "stream",
          "text": [
            "/content/drive/My Drive/Data Analysis\n"
          ],
          "name": "stdout"
        }
      ]
    },
    {
      "cell_type": "code",
      "metadata": {
        "id": "JObmLuE_l3pZ",
        "colab": {
          "base_uri": "https://localhost:8080/",
          "height": 72
        },
        "outputId": "e7d59e12-922b-4556-b51a-ca4a076a2f3a"
      },
      "source": [
        "import numpy as np\n",
        "import pandas as pd\n",
        "import matplotlib.pyplot as plt\n",
        "import seaborn as sns\n",
        "from sklearn.linear_model import LogisticRegression\n",
        "from sklearn.metrics import classification_report, confusion_matrix\n",
        "from sklearn.model_selection import train_test_split \n",
        "from sklearn.metrics import classification_report, confusion_matrix\n",
        "import statsmodels.api as sm\n",
        "from sklearn.neighbors import KNeighborsClassifier\n",
        "from sklearn.tree import DecisionTreeClassifier\n",
        "from sklearn.naive_bayes import GaussianNB\n",
        "from sklearn.svm import LinearSVC\n",
        "from sklearn import tree\n",
        "from sklearn.ensemble import RandomForestClassifier\n",
        "from sklearn.discriminant_analysis import LinearDiscriminantAnalysis\n",
        "from sklearn.metrics import roc_curve\n",
        "from sklearn.metrics import roc_auc_score"
      ],
      "execution_count": null,
      "outputs": [
        {
          "output_type": "stream",
          "text": [
            "/usr/local/lib/python3.6/dist-packages/statsmodels/tools/_testing.py:19: FutureWarning: pandas.util.testing is deprecated. Use the functions in the public API at pandas.testing instead.\n",
            "  import pandas.util.testing as tm\n"
          ],
          "name": "stderr"
        }
      ]
    },
    {
      "cell_type": "code",
      "metadata": {
        "id": "M45VEVvIaPLN",
        "colab": {
          "base_uri": "https://localhost:8080/",
          "height": 211
        },
        "outputId": "236dc1a3-f6a3-4490-8757-6be2afe4792e"
      },
      "source": [
        "!pip install scikit-plot\n",
        "import scikitplot as skplt"
      ],
      "execution_count": null,
      "outputs": [
        {
          "output_type": "stream",
          "text": [
            "Requirement already satisfied: scikit-plot in /usr/local/lib/python3.6/dist-packages (0.3.7)\n",
            "Requirement already satisfied: matplotlib>=1.4.0 in /usr/local/lib/python3.6/dist-packages (from scikit-plot) (3.2.2)\n",
            "Requirement already satisfied: scipy>=0.9 in /usr/local/lib/python3.6/dist-packages (from scikit-plot) (1.4.1)\n",
            "Requirement already satisfied: scikit-learn>=0.18 in /usr/local/lib/python3.6/dist-packages (from scikit-plot) (0.22.2.post1)\n",
            "Requirement already satisfied: joblib>=0.10 in /usr/local/lib/python3.6/dist-packages (from scikit-plot) (0.16.0)\n",
            "Requirement already satisfied: python-dateutil>=2.1 in /usr/local/lib/python3.6/dist-packages (from matplotlib>=1.4.0->scikit-plot) (2.8.1)\n",
            "Requirement already satisfied: kiwisolver>=1.0.1 in /usr/local/lib/python3.6/dist-packages (from matplotlib>=1.4.0->scikit-plot) (1.2.0)\n",
            "Requirement already satisfied: numpy>=1.11 in /usr/local/lib/python3.6/dist-packages (from matplotlib>=1.4.0->scikit-plot) (1.18.5)\n",
            "Requirement already satisfied: cycler>=0.10 in /usr/local/lib/python3.6/dist-packages (from matplotlib>=1.4.0->scikit-plot) (0.10.0)\n",
            "Requirement already satisfied: pyparsing!=2.0.4,!=2.1.2,!=2.1.6,>=2.0.1 in /usr/local/lib/python3.6/dist-packages (from matplotlib>=1.4.0->scikit-plot) (2.4.7)\n",
            "Requirement already satisfied: six>=1.5 in /usr/local/lib/python3.6/dist-packages (from python-dateutil>=2.1->matplotlib>=1.4.0->scikit-plot) (1.15.0)\n"
          ],
          "name": "stdout"
        }
      ]
    },
    {
      "cell_type": "code",
      "metadata": {
        "id": "s_XD-i3lp5pd",
        "colab": {
          "base_uri": "https://localhost:8080/",
          "height": 72
        },
        "outputId": "e312529e-91e1-4fad-c26f-59944a29b639"
      },
      "source": [
        "from IPython.display import Image\n",
        "from sklearn.externals.six import StringIO\n",
        "from sklearn.tree import export_graphviz\n",
        "import pydot"
      ],
      "execution_count": null,
      "outputs": [
        {
          "output_type": "stream",
          "text": [
            "/usr/local/lib/python3.6/dist-packages/sklearn/externals/six.py:31: FutureWarning: The module is deprecated in version 0.21 and will be removed in version 0.23 since we've dropped support for Python 2.7. Please rely on the official version of six (https://pypi.org/project/six/).\n",
            "  \"(https://pypi.org/project/six/).\", FutureWarning)\n"
          ],
          "name": "stderr"
        }
      ]
    },
    {
      "cell_type": "code",
      "metadata": {
        "id": "KYL9mRA0CFUD"
      },
      "source": [
        "def plot_roc_curve(fpr, tpr):\n",
        "    plt.plot(fpr, tpr, color='orange', label='ROC')\n",
        "    plt.plot([0, 1], [0, 1], color='darkblue', linestyle='--')\n",
        "    plt.xlabel('False Positive Rate')\n",
        "    plt.ylabel('True Positive Rate')\n",
        "    plt.title('Receiver Operating Characteristic (ROC) Curve')\n",
        "    plt.legend()\n",
        "    plt.show()"
      ],
      "execution_count": null,
      "outputs": []
    },
    {
      "cell_type": "markdown",
      "metadata": {
        "id": "xqxazBE6jN_L"
      },
      "source": [
        "#Dataset"
      ]
    },
    {
      "cell_type": "code",
      "metadata": {
        "id": "ggJ9kJz2jSSn",
        "colab": {
          "base_uri": "https://localhost:8080/"
        },
        "outputId": "10b309d0-dc2f-4e54-aabd-98edbd49a30c"
      },
      "source": [
        "df = pd.read_csv('logistic Reg.csv')\n",
        "df"
      ],
      "execution_count": null,
      "outputs": [
        {
          "output_type": "execute_result",
          "data": {
            "text/html": [
              "<div>\n",
              "<style scoped>\n",
              "    .dataframe tbody tr th:only-of-type {\n",
              "        vertical-align: middle;\n",
              "    }\n",
              "\n",
              "    .dataframe tbody tr th {\n",
              "        vertical-align: top;\n",
              "    }\n",
              "\n",
              "    .dataframe thead th {\n",
              "        text-align: right;\n",
              "    }\n",
              "</style>\n",
              "<table border=\"1\" class=\"dataframe\">\n",
              "  <thead>\n",
              "    <tr style=\"text-align: right;\">\n",
              "      <th></th>\n",
              "      <th>STATION</th>\n",
              "      <th>Longitude</th>\n",
              "      <th>Latitude</th>\n",
              "      <th>Elevation</th>\n",
              "      <th>Jan Minimum Temperature</th>\n",
              "      <th>Feb Minimum Temperature</th>\n",
              "      <th>Mar Minimum Temperature</th>\n",
              "      <th>Oct Minimum Temperature</th>\n",
              "      <th>Nov Minimum Temperature</th>\n",
              "      <th>Dec Minimum Temperature</th>\n",
              "      <th>Minimum Annual Temperature</th>\n",
              "      <th>Jan Days with a minimum temperature of -4 and lower</th>\n",
              "      <th>Feb Days with a minimum temperature of -4 and lower</th>\n",
              "      <th>Dec Days with a minimum temperature of -4 and lower</th>\n",
              "      <th>Annual Days with a minimum temperature of -4 and lower</th>\n",
              "      <th>Jan Freezing Days</th>\n",
              "      <th>Feb Freezing Days</th>\n",
              "      <th>Dec Freezing Days</th>\n",
              "      <th>Annual Freezing Days</th>\n",
              "      <th>Jan Minimum Absolute Temperature</th>\n",
              "      <th>Feb Minimum Absolute Temperature</th>\n",
              "      <th>Mar Minimum Absolute Temperature</th>\n",
              "      <th>Oct Minimum Absolute Temperature</th>\n",
              "      <th>Nov Minimum Absolute Temperature</th>\n",
              "      <th>Dec Minimum Absolute Temperature</th>\n",
              "      <th>Minimum Annual Absolute Temperature</th>\n",
              "      <th>Mar maximum Temperature</th>\n",
              "      <th>Apr maximum Temperature</th>\n",
              "      <th>May maximum Temperature</th>\n",
              "      <th>June maximum Temperature</th>\n",
              "      <th>July maximum Temperature</th>\n",
              "      <th>Auq maximum Temperature</th>\n",
              "      <th>Sep maximum Temperature</th>\n",
              "      <th>Oct maximum Temperature</th>\n",
              "      <th>Maximum Annual Temperature</th>\n",
              "      <th>Apr Maximum Absolute Temperature</th>\n",
              "      <th>May Maximum Absolute Temperature</th>\n",
              "      <th>June Maximum Absolute Temperature</th>\n",
              "      <th>July Maximum Absolute Temperature</th>\n",
              "      <th>Auq Maximum Absolute Temperature</th>\n",
              "      <th>...</th>\n",
              "      <th>Feb Semi-Cloudy Days</th>\n",
              "      <th>Mar Semi-Cloudy Days</th>\n",
              "      <th>Apr Semi-Cloudy Days</th>\n",
              "      <th>May Semi-Cloudy Days</th>\n",
              "      <th>Nov Semi-Cloudy Days</th>\n",
              "      <th>Dec Semi-Cloudy Days</th>\n",
              "      <th>Annual Semi-Cloudy Days</th>\n",
              "      <th>Jan Cloudy Days</th>\n",
              "      <th>Feb Cloudy Days</th>\n",
              "      <th>Mar Cloudy Days</th>\n",
              "      <th>Apr Cloudy Days</th>\n",
              "      <th>Dec Cloudy Days</th>\n",
              "      <th>Annual Cloudy Days</th>\n",
              "      <th>Mar Sunny Hours</th>\n",
              "      <th>Apr Sunny Hours</th>\n",
              "      <th>May Sunny Hours</th>\n",
              "      <th>June Sunny Hours</th>\n",
              "      <th>July Sunny Hours</th>\n",
              "      <th>Aug Sunny Hours</th>\n",
              "      <th>Sept Sunny Hours</th>\n",
              "      <th>Oct Sunny Hours</th>\n",
              "      <th>Annual Sunny Hours</th>\n",
              "      <th>Winter Rainfall</th>\n",
              "      <th>Spring Rainfall</th>\n",
              "      <th>Summer Rainfall</th>\n",
              "      <th>Autumn Rainfall</th>\n",
              "      <th>Winter Days With Rainfall &gt; 10mm</th>\n",
              "      <th>Spring Days With Rainfall &gt; 10mm</th>\n",
              "      <th>Summer Days With Rainfall &gt; 10mm</th>\n",
              "      <th>Autumn Days With Rainfall &gt; 10mm</th>\n",
              "      <th>Winter Days With Rainfall &gt; 5mm</th>\n",
              "      <th>Spring Days With Rainfall &gt; 5mm</th>\n",
              "      <th>Summer Days With Rainfall &gt; 5mm</th>\n",
              "      <th>Autumn Days With Rainfall &gt; 5mm</th>\n",
              "      <th>Winter Days With Rainfall</th>\n",
              "      <th>Spring Days With Rainfall</th>\n",
              "      <th>Summer Days With Rainfall</th>\n",
              "      <th>Autumn Days With Rainfall</th>\n",
              "      <th>Humidity</th>\n",
              "      <th>Temperature</th>\n",
              "    </tr>\n",
              "  </thead>\n",
              "  <tbody>\n",
              "    <tr>\n",
              "      <th>0</th>\n",
              "      <td>ARDEBIL</td>\n",
              "      <td>38.25</td>\n",
              "      <td>48.28</td>\n",
              "      <td>1332.0</td>\n",
              "      <td>-7.800000</td>\n",
              "      <td>-5.800000</td>\n",
              "      <td>-2.000000</td>\n",
              "      <td>5.100000</td>\n",
              "      <td>0.300000</td>\n",
              "      <td>-4.500000</td>\n",
              "      <td>3.000000</td>\n",
              "      <td>21.600000</td>\n",
              "      <td>17.300000</td>\n",
              "      <td>15.300000</td>\n",
              "      <td>71.3</td>\n",
              "      <td>27.9000</td>\n",
              "      <td>24.000000</td>\n",
              "      <td>24.200000</td>\n",
              "      <td>126.700000</td>\n",
              "      <td>-31.4</td>\n",
              "      <td>-33.8</td>\n",
              "      <td>-28.8</td>\n",
              "      <td>-21.0</td>\n",
              "      <td>-24.2</td>\n",
              "      <td>-27.0</td>\n",
              "      <td>-33.8</td>\n",
              "      <td>9.800000</td>\n",
              "      <td>16.6</td>\n",
              "      <td>19.900000</td>\n",
              "      <td>23.400000</td>\n",
              "      <td>25.100000</td>\n",
              "      <td>25.100000</td>\n",
              "      <td>22.700000</td>\n",
              "      <td>17.700000</td>\n",
              "      <td>15.5000</td>\n",
              "      <td>32.0</td>\n",
              "      <td>33.0</td>\n",
              "      <td>37.5</td>\n",
              "      <td>38.0</td>\n",
              "      <td>39.8</td>\n",
              "      <td>...</td>\n",
              "      <td>10.0</td>\n",
              "      <td>11.8</td>\n",
              "      <td>14.4</td>\n",
              "      <td>14.4</td>\n",
              "      <td>10.2</td>\n",
              "      <td>11.4</td>\n",
              "      <td>133.3</td>\n",
              "      <td>7.8</td>\n",
              "      <td>8.4</td>\n",
              "      <td>11.1</td>\n",
              "      <td>9.7</td>\n",
              "      <td>8.2</td>\n",
              "      <td>87.9</td>\n",
              "      <td>170.4</td>\n",
              "      <td>184.9</td>\n",
              "      <td>245.4</td>\n",
              "      <td>293.6</td>\n",
              "      <td>302.8</td>\n",
              "      <td>274.3</td>\n",
              "      <td>227.1</td>\n",
              "      <td>185.6</td>\n",
              "      <td>2478.4</td>\n",
              "      <td>81.5</td>\n",
              "      <td>101.5</td>\n",
              "      <td>21.8</td>\n",
              "      <td>90.7</td>\n",
              "      <td>1.8</td>\n",
              "      <td>2.7</td>\n",
              "      <td>0.5</td>\n",
              "      <td>2.7</td>\n",
              "      <td>5.8</td>\n",
              "      <td>6.8</td>\n",
              "      <td>1.3</td>\n",
              "      <td>5.8</td>\n",
              "      <td>28.4</td>\n",
              "      <td>33.1</td>\n",
              "      <td>14.4</td>\n",
              "      <td>24.8</td>\n",
              "      <td>0</td>\n",
              "      <td>1</td>\n",
              "    </tr>\n",
              "    <tr>\n",
              "      <th>1</th>\n",
              "      <td>GERMI</td>\n",
              "      <td>39.05</td>\n",
              "      <td>48.05</td>\n",
              "      <td>749.0</td>\n",
              "      <td>-1.083333</td>\n",
              "      <td>0.550000</td>\n",
              "      <td>4.816667</td>\n",
              "      <td>11.950000</td>\n",
              "      <td>6.216667</td>\n",
              "      <td>2.316667</td>\n",
              "      <td>10.133333</td>\n",
              "      <td>7.166667</td>\n",
              "      <td>5.166667</td>\n",
              "      <td>1.333333</td>\n",
              "      <td>14.0</td>\n",
              "      <td>19.5000</td>\n",
              "      <td>12.833333</td>\n",
              "      <td>10.333333</td>\n",
              "      <td>48.666667</td>\n",
              "      <td>-12.0</td>\n",
              "      <td>-7.4</td>\n",
              "      <td>-4.8</td>\n",
              "      <td>2.6</td>\n",
              "      <td>-2.6</td>\n",
              "      <td>-7.4</td>\n",
              "      <td>-12.0</td>\n",
              "      <td>13.200000</td>\n",
              "      <td>15.4</td>\n",
              "      <td>21.700000</td>\n",
              "      <td>27.700000</td>\n",
              "      <td>29.700000</td>\n",
              "      <td>29.700000</td>\n",
              "      <td>24.000000</td>\n",
              "      <td>18.500000</td>\n",
              "      <td>18.0000</td>\n",
              "      <td>35.0</td>\n",
              "      <td>32.4</td>\n",
              "      <td>34.2</td>\n",
              "      <td>39.2</td>\n",
              "      <td>36.4</td>\n",
              "      <td>...</td>\n",
              "      <td>10.2</td>\n",
              "      <td>15.0</td>\n",
              "      <td>10.5</td>\n",
              "      <td>10.2</td>\n",
              "      <td>7.2</td>\n",
              "      <td>8.8</td>\n",
              "      <td>115.6</td>\n",
              "      <td>9.8</td>\n",
              "      <td>10.5</td>\n",
              "      <td>9.3</td>\n",
              "      <td>12.7</td>\n",
              "      <td>8.0</td>\n",
              "      <td>93.0</td>\n",
              "      <td>163.6</td>\n",
              "      <td>161.4</td>\n",
              "      <td>235.8</td>\n",
              "      <td>290.0</td>\n",
              "      <td>315.9</td>\n",
              "      <td>287.0</td>\n",
              "      <td>201.8</td>\n",
              "      <td>153.2</td>\n",
              "      <td>2380.9</td>\n",
              "      <td>73.8</td>\n",
              "      <td>96.0</td>\n",
              "      <td>55.3</td>\n",
              "      <td>87.9</td>\n",
              "      <td>1.9</td>\n",
              "      <td>2.3</td>\n",
              "      <td>2.1</td>\n",
              "      <td>2.3</td>\n",
              "      <td>5.5</td>\n",
              "      <td>7.2</td>\n",
              "      <td>4.0</td>\n",
              "      <td>6.3</td>\n",
              "      <td>26.3</td>\n",
              "      <td>31.0</td>\n",
              "      <td>14.5</td>\n",
              "      <td>26.5</td>\n",
              "      <td>0</td>\n",
              "      <td>1</td>\n",
              "    </tr>\n",
              "    <tr>\n",
              "      <th>2</th>\n",
              "      <td>KHALKHAL</td>\n",
              "      <td>37.63</td>\n",
              "      <td>48.51</td>\n",
              "      <td>1796.0</td>\n",
              "      <td>-9.300000</td>\n",
              "      <td>-7.600000</td>\n",
              "      <td>-3.000000</td>\n",
              "      <td>2.600000</td>\n",
              "      <td>-2.300000</td>\n",
              "      <td>-5.700000</td>\n",
              "      <td>2.000000</td>\n",
              "      <td>23.500000</td>\n",
              "      <td>19.000000</td>\n",
              "      <td>17.500000</td>\n",
              "      <td>86.5</td>\n",
              "      <td>29.4000</td>\n",
              "      <td>25.900000</td>\n",
              "      <td>26.700000</td>\n",
              "      <td>148.700000</td>\n",
              "      <td>-31.5</td>\n",
              "      <td>-27.6</td>\n",
              "      <td>-24.5</td>\n",
              "      <td>-7.6</td>\n",
              "      <td>-20.6</td>\n",
              "      <td>-25.0</td>\n",
              "      <td>-31.5</td>\n",
              "      <td>7.900000</td>\n",
              "      <td>14.3</td>\n",
              "      <td>19.100000</td>\n",
              "      <td>23.600000</td>\n",
              "      <td>25.200000</td>\n",
              "      <td>26.300000</td>\n",
              "      <td>23.200000</td>\n",
              "      <td>17.200000</td>\n",
              "      <td>14.5000</td>\n",
              "      <td>27.6</td>\n",
              "      <td>29.0</td>\n",
              "      <td>34.8</td>\n",
              "      <td>35.4</td>\n",
              "      <td>35.0</td>\n",
              "      <td>...</td>\n",
              "      <td>9.5</td>\n",
              "      <td>11.0</td>\n",
              "      <td>13.6</td>\n",
              "      <td>13.0</td>\n",
              "      <td>10.9</td>\n",
              "      <td>11.9</td>\n",
              "      <td>116.9</td>\n",
              "      <td>10.5</td>\n",
              "      <td>10.2</td>\n",
              "      <td>11.5</td>\n",
              "      <td>9.8</td>\n",
              "      <td>9.2</td>\n",
              "      <td>70.9</td>\n",
              "      <td>179.2</td>\n",
              "      <td>205.4</td>\n",
              "      <td>273.2</td>\n",
              "      <td>332.2</td>\n",
              "      <td>354.1</td>\n",
              "      <td>338.1</td>\n",
              "      <td>299.7</td>\n",
              "      <td>228.6</td>\n",
              "      <td>2781.8</td>\n",
              "      <td>113.2</td>\n",
              "      <td>132.4</td>\n",
              "      <td>24.7</td>\n",
              "      <td>108.3</td>\n",
              "      <td>2.6</td>\n",
              "      <td>3.9</td>\n",
              "      <td>0.5</td>\n",
              "      <td>3.1</td>\n",
              "      <td>7.5</td>\n",
              "      <td>10.2</td>\n",
              "      <td>2.0</td>\n",
              "      <td>7.3</td>\n",
              "      <td>35.7</td>\n",
              "      <td>30.1</td>\n",
              "      <td>7.6</td>\n",
              "      <td>24.6</td>\n",
              "      <td>0</td>\n",
              "      <td>1</td>\n",
              "    </tr>\n",
              "    <tr>\n",
              "      <th>3</th>\n",
              "      <td>MESHKINSHAHR</td>\n",
              "      <td>38.38</td>\n",
              "      <td>47.66</td>\n",
              "      <td>1568.5</td>\n",
              "      <td>-3.900000</td>\n",
              "      <td>-2.700000</td>\n",
              "      <td>0.600000</td>\n",
              "      <td>8.500000</td>\n",
              "      <td>2.600000</td>\n",
              "      <td>-1.300000</td>\n",
              "      <td>6.200000</td>\n",
              "      <td>16.700000</td>\n",
              "      <td>10.900000</td>\n",
              "      <td>9.200000</td>\n",
              "      <td>46.2</td>\n",
              "      <td>24.5000</td>\n",
              "      <td>19.700000</td>\n",
              "      <td>18.200000</td>\n",
              "      <td>91.900000</td>\n",
              "      <td>-18.4</td>\n",
              "      <td>-16.0</td>\n",
              "      <td>-12.0</td>\n",
              "      <td>-3.4</td>\n",
              "      <td>-12.0</td>\n",
              "      <td>-15.8</td>\n",
              "      <td>-18.4</td>\n",
              "      <td>9.500000</td>\n",
              "      <td>14.5</td>\n",
              "      <td>19.300000</td>\n",
              "      <td>24.200000</td>\n",
              "      <td>26.200000</td>\n",
              "      <td>26.800000</td>\n",
              "      <td>22.300000</td>\n",
              "      <td>17.500000</td>\n",
              "      <td>15.5000</td>\n",
              "      <td>29.4</td>\n",
              "      <td>30.0</td>\n",
              "      <td>34.0</td>\n",
              "      <td>34.8</td>\n",
              "      <td>37.4</td>\n",
              "      <td>...</td>\n",
              "      <td>9.5</td>\n",
              "      <td>10.9</td>\n",
              "      <td>11.6</td>\n",
              "      <td>12.7</td>\n",
              "      <td>7.4</td>\n",
              "      <td>9.9</td>\n",
              "      <td>114.0</td>\n",
              "      <td>6.8</td>\n",
              "      <td>6.2</td>\n",
              "      <td>9.0</td>\n",
              "      <td>9.9</td>\n",
              "      <td>5.6</td>\n",
              "      <td>75.4</td>\n",
              "      <td>173.2</td>\n",
              "      <td>177.8</td>\n",
              "      <td>232.7</td>\n",
              "      <td>287.1</td>\n",
              "      <td>282.5</td>\n",
              "      <td>278.0</td>\n",
              "      <td>222.3</td>\n",
              "      <td>197.3</td>\n",
              "      <td>2482.4</td>\n",
              "      <td>87.2</td>\n",
              "      <td>151.5</td>\n",
              "      <td>61.0</td>\n",
              "      <td>73.3</td>\n",
              "      <td>2.0</td>\n",
              "      <td>4.6</td>\n",
              "      <td>1.9</td>\n",
              "      <td>2.0</td>\n",
              "      <td>5.8</td>\n",
              "      <td>10.3</td>\n",
              "      <td>3.3</td>\n",
              "      <td>4.7</td>\n",
              "      <td>25.5</td>\n",
              "      <td>32.2</td>\n",
              "      <td>14.7</td>\n",
              "      <td>20.4</td>\n",
              "      <td>0</td>\n",
              "      <td>1</td>\n",
              "    </tr>\n",
              "    <tr>\n",
              "      <th>4</th>\n",
              "      <td>PARSABAD MOGHAN</td>\n",
              "      <td>39.65</td>\n",
              "      <td>47.91</td>\n",
              "      <td>31.9</td>\n",
              "      <td>-0.700000</td>\n",
              "      <td>0.100000</td>\n",
              "      <td>3.200000</td>\n",
              "      <td>11.400000</td>\n",
              "      <td>5.600000</td>\n",
              "      <td>1.000000</td>\n",
              "      <td>9.800000</td>\n",
              "      <td>4.900000</td>\n",
              "      <td>3.300000</td>\n",
              "      <td>2.200000</td>\n",
              "      <td>11.2</td>\n",
              "      <td>18.3000</td>\n",
              "      <td>13.800000</td>\n",
              "      <td>13.400000</td>\n",
              "      <td>52.800000</td>\n",
              "      <td>-15.0</td>\n",
              "      <td>-12.0</td>\n",
              "      <td>-10.0</td>\n",
              "      <td>2.6</td>\n",
              "      <td>-3.4</td>\n",
              "      <td>-8.4</td>\n",
              "      <td>-15.0</td>\n",
              "      <td>13.400000</td>\n",
              "      <td>19.5</td>\n",
              "      <td>25.400000</td>\n",
              "      <td>31.400000</td>\n",
              "      <td>33.800000</td>\n",
              "      <td>33.100000</td>\n",
              "      <td>27.900000</td>\n",
              "      <td>21.000000</td>\n",
              "      <td>20.5000</td>\n",
              "      <td>37.2</td>\n",
              "      <td>35.4</td>\n",
              "      <td>40.0</td>\n",
              "      <td>40.2</td>\n",
              "      <td>41.0</td>\n",
              "      <td>...</td>\n",
              "      <td>7.4</td>\n",
              "      <td>9.9</td>\n",
              "      <td>11.6</td>\n",
              "      <td>12.3</td>\n",
              "      <td>9.0</td>\n",
              "      <td>8.6</td>\n",
              "      <td>109.7</td>\n",
              "      <td>11.6</td>\n",
              "      <td>11.5</td>\n",
              "      <td>12.7</td>\n",
              "      <td>10.2</td>\n",
              "      <td>11.3</td>\n",
              "      <td>98.7</td>\n",
              "      <td>143.1</td>\n",
              "      <td>171.0</td>\n",
              "      <td>237.9</td>\n",
              "      <td>282.4</td>\n",
              "      <td>287.3</td>\n",
              "      <td>266.2</td>\n",
              "      <td>204.1</td>\n",
              "      <td>158.2</td>\n",
              "      <td>2221.3</td>\n",
              "      <td>63.1</td>\n",
              "      <td>85.7</td>\n",
              "      <td>39.4</td>\n",
              "      <td>83.0</td>\n",
              "      <td>1.3</td>\n",
              "      <td>2.5</td>\n",
              "      <td>1.2</td>\n",
              "      <td>2.4</td>\n",
              "      <td>4.2</td>\n",
              "      <td>5.8</td>\n",
              "      <td>2.1</td>\n",
              "      <td>5.7</td>\n",
              "      <td>22.6</td>\n",
              "      <td>22.8</td>\n",
              "      <td>10.2</td>\n",
              "      <td>23.6</td>\n",
              "      <td>0</td>\n",
              "      <td>0</td>\n",
              "    </tr>\n",
              "    <tr>\n",
              "      <th>...</th>\n",
              "      <td>...</td>\n",
              "      <td>...</td>\n",
              "      <td>...</td>\n",
              "      <td>...</td>\n",
              "      <td>...</td>\n",
              "      <td>...</td>\n",
              "      <td>...</td>\n",
              "      <td>...</td>\n",
              "      <td>...</td>\n",
              "      <td>...</td>\n",
              "      <td>...</td>\n",
              "      <td>...</td>\n",
              "      <td>...</td>\n",
              "      <td>...</td>\n",
              "      <td>...</td>\n",
              "      <td>...</td>\n",
              "      <td>...</td>\n",
              "      <td>...</td>\n",
              "      <td>...</td>\n",
              "      <td>...</td>\n",
              "      <td>...</td>\n",
              "      <td>...</td>\n",
              "      <td>...</td>\n",
              "      <td>...</td>\n",
              "      <td>...</td>\n",
              "      <td>...</td>\n",
              "      <td>...</td>\n",
              "      <td>...</td>\n",
              "      <td>...</td>\n",
              "      <td>...</td>\n",
              "      <td>...</td>\n",
              "      <td>...</td>\n",
              "      <td>...</td>\n",
              "      <td>...</td>\n",
              "      <td>...</td>\n",
              "      <td>...</td>\n",
              "      <td>...</td>\n",
              "      <td>...</td>\n",
              "      <td>...</td>\n",
              "      <td>...</td>\n",
              "      <td>...</td>\n",
              "      <td>...</td>\n",
              "      <td>...</td>\n",
              "      <td>...</td>\n",
              "      <td>...</td>\n",
              "      <td>...</td>\n",
              "      <td>...</td>\n",
              "      <td>...</td>\n",
              "      <td>...</td>\n",
              "      <td>...</td>\n",
              "      <td>...</td>\n",
              "      <td>...</td>\n",
              "      <td>...</td>\n",
              "      <td>...</td>\n",
              "      <td>...</td>\n",
              "      <td>...</td>\n",
              "      <td>...</td>\n",
              "      <td>...</td>\n",
              "      <td>...</td>\n",
              "      <td>...</td>\n",
              "      <td>...</td>\n",
              "      <td>...</td>\n",
              "      <td>...</td>\n",
              "      <td>...</td>\n",
              "      <td>...</td>\n",
              "      <td>...</td>\n",
              "      <td>...</td>\n",
              "      <td>...</td>\n",
              "      <td>...</td>\n",
              "      <td>...</td>\n",
              "      <td>...</td>\n",
              "      <td>...</td>\n",
              "      <td>...</td>\n",
              "      <td>...</td>\n",
              "      <td>...</td>\n",
              "      <td>...</td>\n",
              "      <td>...</td>\n",
              "      <td>...</td>\n",
              "      <td>...</td>\n",
              "      <td>...</td>\n",
              "      <td>...</td>\n",
              "    </tr>\n",
              "    <tr>\n",
              "      <th>159</th>\n",
              "      <td>MARVAST</td>\n",
              "      <td>30.50</td>\n",
              "      <td>54.25</td>\n",
              "      <td>1546.6</td>\n",
              "      <td>-1.100000</td>\n",
              "      <td>1.800000</td>\n",
              "      <td>4.900000</td>\n",
              "      <td>8.800000</td>\n",
              "      <td>3.400000</td>\n",
              "      <td>0.200000</td>\n",
              "      <td>9.300000</td>\n",
              "      <td>9.200000</td>\n",
              "      <td>2.500000</td>\n",
              "      <td>5.500000</td>\n",
              "      <td>18.3</td>\n",
              "      <td>19.6000</td>\n",
              "      <td>11.900000</td>\n",
              "      <td>16.500000</td>\n",
              "      <td>57.400000</td>\n",
              "      <td>-11.6</td>\n",
              "      <td>-11.4</td>\n",
              "      <td>-6.4</td>\n",
              "      <td>0.6</td>\n",
              "      <td>-5.6</td>\n",
              "      <td>-10.4</td>\n",
              "      <td>-11.6</td>\n",
              "      <td>20.600000</td>\n",
              "      <td>25.7</td>\n",
              "      <td>31.700000</td>\n",
              "      <td>36.500000</td>\n",
              "      <td>38.600000</td>\n",
              "      <td>36.900000</td>\n",
              "      <td>33.700000</td>\n",
              "      <td>27.800000</td>\n",
              "      <td>26.3000</td>\n",
              "      <td>33.4</td>\n",
              "      <td>38.4</td>\n",
              "      <td>41.6</td>\n",
              "      <td>43.4</td>\n",
              "      <td>41.2</td>\n",
              "      <td>...</td>\n",
              "      <td>8.6</td>\n",
              "      <td>10.3</td>\n",
              "      <td>11.3</td>\n",
              "      <td>7.7</td>\n",
              "      <td>9.3</td>\n",
              "      <td>9.0</td>\n",
              "      <td>86.1</td>\n",
              "      <td>3.6</td>\n",
              "      <td>3.8</td>\n",
              "      <td>4.4</td>\n",
              "      <td>4.6</td>\n",
              "      <td>3.7</td>\n",
              "      <td>25.3</td>\n",
              "      <td>267.7</td>\n",
              "      <td>268.8</td>\n",
              "      <td>335.6</td>\n",
              "      <td>345.9</td>\n",
              "      <td>338.4</td>\n",
              "      <td>348.2</td>\n",
              "      <td>318.1</td>\n",
              "      <td>302.0</td>\n",
              "      <td>3458.8</td>\n",
              "      <td>37.7</td>\n",
              "      <td>9.8</td>\n",
              "      <td>0.4</td>\n",
              "      <td>16.7</td>\n",
              "      <td>1.1</td>\n",
              "      <td>0.2</td>\n",
              "      <td>0.0</td>\n",
              "      <td>0.3</td>\n",
              "      <td>2.4</td>\n",
              "      <td>0.5</td>\n",
              "      <td>0.0</td>\n",
              "      <td>1.2</td>\n",
              "      <td>10.8</td>\n",
              "      <td>5.3</td>\n",
              "      <td>0.5</td>\n",
              "      <td>6.4</td>\n",
              "      <td>1</td>\n",
              "      <td>0</td>\n",
              "    </tr>\n",
              "    <tr>\n",
              "      <th>160</th>\n",
              "      <td>ROBAT POSHTBADAM</td>\n",
              "      <td>33.03</td>\n",
              "      <td>55.55</td>\n",
              "      <td>1188.0</td>\n",
              "      <td>1.100000</td>\n",
              "      <td>3.800000</td>\n",
              "      <td>8.000000</td>\n",
              "      <td>13.500000</td>\n",
              "      <td>7.400000</td>\n",
              "      <td>2.700000</td>\n",
              "      <td>13.000000</td>\n",
              "      <td>3.200000</td>\n",
              "      <td>1.200000</td>\n",
              "      <td>1.700000</td>\n",
              "      <td>6.3</td>\n",
              "      <td>12.2000</td>\n",
              "      <td>5.400000</td>\n",
              "      <td>7.200000</td>\n",
              "      <td>28.300000</td>\n",
              "      <td>-16.2</td>\n",
              "      <td>-11.0</td>\n",
              "      <td>-4.5</td>\n",
              "      <td>1.8</td>\n",
              "      <td>-4.0</td>\n",
              "      <td>-11.6</td>\n",
              "      <td>-16.2</td>\n",
              "      <td>19.300000</td>\n",
              "      <td>25.5</td>\n",
              "      <td>31.000000</td>\n",
              "      <td>36.000000</td>\n",
              "      <td>37.700000</td>\n",
              "      <td>36.100000</td>\n",
              "      <td>32.500000</td>\n",
              "      <td>26.400000</td>\n",
              "      <td>25.1000</td>\n",
              "      <td>34.6</td>\n",
              "      <td>39.6</td>\n",
              "      <td>43.6</td>\n",
              "      <td>44.6</td>\n",
              "      <td>43.8</td>\n",
              "      <td>...</td>\n",
              "      <td>9.6</td>\n",
              "      <td>10.5</td>\n",
              "      <td>11.8</td>\n",
              "      <td>9.7</td>\n",
              "      <td>9.1</td>\n",
              "      <td>10.2</td>\n",
              "      <td>83.4</td>\n",
              "      <td>6.1</td>\n",
              "      <td>4.3</td>\n",
              "      <td>6.4</td>\n",
              "      <td>5.1</td>\n",
              "      <td>4.7</td>\n",
              "      <td>31.7</td>\n",
              "      <td>239.5</td>\n",
              "      <td>259.5</td>\n",
              "      <td>323.9</td>\n",
              "      <td>354.2</td>\n",
              "      <td>365.0</td>\n",
              "      <td>362.4</td>\n",
              "      <td>315.5</td>\n",
              "      <td>300.4</td>\n",
              "      <td>3371.3</td>\n",
              "      <td>60.2</td>\n",
              "      <td>25.9</td>\n",
              "      <td>0.1</td>\n",
              "      <td>22.7</td>\n",
              "      <td>1.7</td>\n",
              "      <td>0.5</td>\n",
              "      <td>0.0</td>\n",
              "      <td>0.5</td>\n",
              "      <td>4.7</td>\n",
              "      <td>1.9</td>\n",
              "      <td>0.0</td>\n",
              "      <td>1.8</td>\n",
              "      <td>17.9</td>\n",
              "      <td>9.1</td>\n",
              "      <td>0.3</td>\n",
              "      <td>7.6</td>\n",
              "      <td>1</td>\n",
              "      <td>0</td>\n",
              "    </tr>\n",
              "    <tr>\n",
              "      <th>161</th>\n",
              "      <td>TABASS</td>\n",
              "      <td>33.60</td>\n",
              "      <td>56.91</td>\n",
              "      <td>711.0</td>\n",
              "      <td>1.800000</td>\n",
              "      <td>4.600000</td>\n",
              "      <td>9.500000</td>\n",
              "      <td>14.600000</td>\n",
              "      <td>8.200000</td>\n",
              "      <td>3.300000</td>\n",
              "      <td>14.800000</td>\n",
              "      <td>2.700000</td>\n",
              "      <td>0.900000</td>\n",
              "      <td>1.300000</td>\n",
              "      <td>5.0</td>\n",
              "      <td>10.9000</td>\n",
              "      <td>4.300000</td>\n",
              "      <td>7.000000</td>\n",
              "      <td>24.300000</td>\n",
              "      <td>-9.0</td>\n",
              "      <td>-8.0</td>\n",
              "      <td>-3.0</td>\n",
              "      <td>2.0</td>\n",
              "      <td>-5.0</td>\n",
              "      <td>-9.0</td>\n",
              "      <td>-9.0</td>\n",
              "      <td>23.000000</td>\n",
              "      <td>29.4</td>\n",
              "      <td>35.300000</td>\n",
              "      <td>40.700000</td>\n",
              "      <td>42.200000</td>\n",
              "      <td>40.500000</td>\n",
              "      <td>37.100000</td>\n",
              "      <td>30.600000</td>\n",
              "      <td>29.0000</td>\n",
              "      <td>39.5</td>\n",
              "      <td>45.0</td>\n",
              "      <td>47.8</td>\n",
              "      <td>49.4</td>\n",
              "      <td>48.2</td>\n",
              "      <td>...</td>\n",
              "      <td>9.5</td>\n",
              "      <td>11.2</td>\n",
              "      <td>12.7</td>\n",
              "      <td>9.0</td>\n",
              "      <td>8.7</td>\n",
              "      <td>9.9</td>\n",
              "      <td>80.4</td>\n",
              "      <td>4.8</td>\n",
              "      <td>3.9</td>\n",
              "      <td>5.2</td>\n",
              "      <td>4.3</td>\n",
              "      <td>4.4</td>\n",
              "      <td>26.4</td>\n",
              "      <td>233.9</td>\n",
              "      <td>258.9</td>\n",
              "      <td>319.9</td>\n",
              "      <td>348.3</td>\n",
              "      <td>358.7</td>\n",
              "      <td>353.7</td>\n",
              "      <td>317.3</td>\n",
              "      <td>293.4</td>\n",
              "      <td>3331.5</td>\n",
              "      <td>47.0</td>\n",
              "      <td>16.9</td>\n",
              "      <td>0.1</td>\n",
              "      <td>18.2</td>\n",
              "      <td>1.3</td>\n",
              "      <td>0.4</td>\n",
              "      <td>0.0</td>\n",
              "      <td>0.3</td>\n",
              "      <td>3.3</td>\n",
              "      <td>1.3</td>\n",
              "      <td>0.0</td>\n",
              "      <td>1.2</td>\n",
              "      <td>18.8</td>\n",
              "      <td>8.4</td>\n",
              "      <td>0.6</td>\n",
              "      <td>8.4</td>\n",
              "      <td>1</td>\n",
              "      <td>0</td>\n",
              "    </tr>\n",
              "    <tr>\n",
              "      <th>162</th>\n",
              "      <td>YAZD</td>\n",
              "      <td>31.90</td>\n",
              "      <td>54.28</td>\n",
              "      <td>1237.2</td>\n",
              "      <td>-0.400000</td>\n",
              "      <td>2.100000</td>\n",
              "      <td>6.900000</td>\n",
              "      <td>11.500000</td>\n",
              "      <td>5.100000</td>\n",
              "      <td>0.700000</td>\n",
              "      <td>11.900000</td>\n",
              "      <td>5.700000</td>\n",
              "      <td>1.900000</td>\n",
              "      <td>3.800000</td>\n",
              "      <td>12.5</td>\n",
              "      <td>18.9000</td>\n",
              "      <td>9.600000</td>\n",
              "      <td>14.700000</td>\n",
              "      <td>48.900000</td>\n",
              "      <td>-14.0</td>\n",
              "      <td>-10.0</td>\n",
              "      <td>-7.0</td>\n",
              "      <td>-3.0</td>\n",
              "      <td>-10.0</td>\n",
              "      <td>-16.0</td>\n",
              "      <td>-16.0</td>\n",
              "      <td>20.600000</td>\n",
              "      <td>26.6</td>\n",
              "      <td>32.300000</td>\n",
              "      <td>37.800000</td>\n",
              "      <td>39.500000</td>\n",
              "      <td>38.000000</td>\n",
              "      <td>34.300000</td>\n",
              "      <td>27.700000</td>\n",
              "      <td>26.6000</td>\n",
              "      <td>38.0</td>\n",
              "      <td>41.0</td>\n",
              "      <td>44.0</td>\n",
              "      <td>45.4</td>\n",
              "      <td>45.6</td>\n",
              "      <td>...</td>\n",
              "      <td>9.1</td>\n",
              "      <td>11.8</td>\n",
              "      <td>12.6</td>\n",
              "      <td>10.1</td>\n",
              "      <td>8.6</td>\n",
              "      <td>9.5</td>\n",
              "      <td>86.9</td>\n",
              "      <td>6.1</td>\n",
              "      <td>4.7</td>\n",
              "      <td>6.0</td>\n",
              "      <td>6.1</td>\n",
              "      <td>5.4</td>\n",
              "      <td>35.2</td>\n",
              "      <td>225.4</td>\n",
              "      <td>246.2</td>\n",
              "      <td>302.7</td>\n",
              "      <td>343.1</td>\n",
              "      <td>347.2</td>\n",
              "      <td>346.1</td>\n",
              "      <td>316.4</td>\n",
              "      <td>286.9</td>\n",
              "      <td>3244.9</td>\n",
              "      <td>32.3</td>\n",
              "      <td>11.2</td>\n",
              "      <td>0.4</td>\n",
              "      <td>15.3</td>\n",
              "      <td>0.8</td>\n",
              "      <td>0.2</td>\n",
              "      <td>0.0</td>\n",
              "      <td>0.3</td>\n",
              "      <td>2.2</td>\n",
              "      <td>0.7</td>\n",
              "      <td>0.0</td>\n",
              "      <td>1.1</td>\n",
              "      <td>13.1</td>\n",
              "      <td>6.8</td>\n",
              "      <td>0.4</td>\n",
              "      <td>6.7</td>\n",
              "      <td>1</td>\n",
              "      <td>0</td>\n",
              "    </tr>\n",
              "    <tr>\n",
              "      <th>163</th>\n",
              "      <td>KHODABANDEH</td>\n",
              "      <td>36.11</td>\n",
              "      <td>48.58</td>\n",
              "      <td>1887.0</td>\n",
              "      <td>-6.737500</td>\n",
              "      <td>-4.617647</td>\n",
              "      <td>0.211765</td>\n",
              "      <td>8.123529</td>\n",
              "      <td>1.335294</td>\n",
              "      <td>-3.088235</td>\n",
              "      <td>5.856250</td>\n",
              "      <td>21.000000</td>\n",
              "      <td>14.058824</td>\n",
              "      <td>11.882353</td>\n",
              "      <td>54.5</td>\n",
              "      <td>28.3125</td>\n",
              "      <td>24.941176</td>\n",
              "      <td>23.647059</td>\n",
              "      <td>105.937500</td>\n",
              "      <td>-22.0</td>\n",
              "      <td>-21.4</td>\n",
              "      <td>-14.5</td>\n",
              "      <td>-1.0</td>\n",
              "      <td>-12.0</td>\n",
              "      <td>-21.0</td>\n",
              "      <td>-22.0</td>\n",
              "      <td>9.811765</td>\n",
              "      <td>15.6</td>\n",
              "      <td>20.911765</td>\n",
              "      <td>27.535294</td>\n",
              "      <td>31.047059</td>\n",
              "      <td>31.429412</td>\n",
              "      <td>26.405882</td>\n",
              "      <td>19.447059</td>\n",
              "      <td>16.8625</td>\n",
              "      <td>27.2</td>\n",
              "      <td>30.6</td>\n",
              "      <td>35.5</td>\n",
              "      <td>37.2</td>\n",
              "      <td>36.2</td>\n",
              "      <td>...</td>\n",
              "      <td>10.6</td>\n",
              "      <td>12.8</td>\n",
              "      <td>14.0</td>\n",
              "      <td>13.2</td>\n",
              "      <td>11.3</td>\n",
              "      <td>11.9</td>\n",
              "      <td>113.0</td>\n",
              "      <td>8.4</td>\n",
              "      <td>7.2</td>\n",
              "      <td>7.8</td>\n",
              "      <td>8.0</td>\n",
              "      <td>7.5</td>\n",
              "      <td>50.8</td>\n",
              "      <td>212.4</td>\n",
              "      <td>229.9</td>\n",
              "      <td>298.1</td>\n",
              "      <td>347.7</td>\n",
              "      <td>351.5</td>\n",
              "      <td>342.8</td>\n",
              "      <td>311.2</td>\n",
              "      <td>253.8</td>\n",
              "      <td>3013.0</td>\n",
              "      <td>142.1</td>\n",
              "      <td>124.2</td>\n",
              "      <td>15.7</td>\n",
              "      <td>112.8</td>\n",
              "      <td>4.2</td>\n",
              "      <td>3.8</td>\n",
              "      <td>0.4</td>\n",
              "      <td>3.3</td>\n",
              "      <td>9.0</td>\n",
              "      <td>8.3</td>\n",
              "      <td>1.1</td>\n",
              "      <td>7.7</td>\n",
              "      <td>35.2</td>\n",
              "      <td>30.6</td>\n",
              "      <td>9.1</td>\n",
              "      <td>25.5</td>\n",
              "      <td>0</td>\n",
              "      <td>1</td>\n",
              "    </tr>\n",
              "  </tbody>\n",
              "</table>\n",
              "<p>164 rows × 196 columns</p>\n",
              "</div>"
            ],
            "text/plain": [
              "                STATION  Longitude  ...  Humidity  Temperature\n",
              "0               ARDEBIL      38.25  ...         0            1\n",
              "1    GERMI                   39.05  ...         0            1\n",
              "2              KHALKHAL      37.63  ...         0            1\n",
              "3         MESHKINSHAHR       38.38  ...         0            1\n",
              "4       PARSABAD MOGHAN      39.65  ...         0            0\n",
              "..                  ...        ...  ...       ...          ...\n",
              "159            MARVAST       30.50  ...         1            0\n",
              "160   ROBAT POSHTBADAM       33.03  ...         1            0\n",
              "161              TABASS      33.60  ...         1            0\n",
              "162              YAZD        31.90  ...         1            0\n",
              "163         KHODABANDEH      36.11  ...         0            1\n",
              "\n",
              "[164 rows x 196 columns]"
            ]
          },
          "metadata": {
            "tags": []
          },
          "execution_count": 8
        }
      ]
    },
    {
      "cell_type": "markdown",
      "metadata": {
        "id": "lptMHpno-P02"
      },
      "source": [
        "#Scikit-Learn_Logistic"
      ]
    },
    {
      "cell_type": "code",
      "metadata": {
        "id": "OnGXCviY4Ayx"
      },
      "source": [
        "X = df.iloc[: , 1:194].drop('Annual Rainfall', axis=1)\n",
        "y = df['Humidity']"
      ],
      "execution_count": null,
      "outputs": []
    },
    {
      "cell_type": "code",
      "metadata": {
        "id": "kY_bq3RTw73o",
        "colab": {
          "base_uri": "https://localhost:8080/",
          "height": 523
        },
        "outputId": "6bccfa58-9e6b-4ac7-ceb3-5c2a6a9d5886"
      },
      "source": [
        "X"
      ],
      "execution_count": null,
      "outputs": [
        {
          "output_type": "execute_result",
          "data": {
            "text/html": [
              "<div>\n",
              "<style scoped>\n",
              "    .dataframe tbody tr th:only-of-type {\n",
              "        vertical-align: middle;\n",
              "    }\n",
              "\n",
              "    .dataframe tbody tr th {\n",
              "        vertical-align: top;\n",
              "    }\n",
              "\n",
              "    .dataframe thead th {\n",
              "        text-align: right;\n",
              "    }\n",
              "</style>\n",
              "<table border=\"1\" class=\"dataframe\">\n",
              "  <thead>\n",
              "    <tr style=\"text-align: right;\">\n",
              "      <th></th>\n",
              "      <th>Longitude</th>\n",
              "      <th>Latitude</th>\n",
              "      <th>Elevation</th>\n",
              "      <th>Jan Minimum Temperature</th>\n",
              "      <th>Feb Minimum Temperature</th>\n",
              "      <th>Mar Minimum Temperature</th>\n",
              "      <th>Oct Minimum Temperature</th>\n",
              "      <th>Nov Minimum Temperature</th>\n",
              "      <th>Dec Minimum Temperature</th>\n",
              "      <th>Minimum Annual Temperature</th>\n",
              "      <th>Jan Days with a minimum temperature of -4 and lower</th>\n",
              "      <th>Feb Days with a minimum temperature of -4 and lower</th>\n",
              "      <th>Dec Days with a minimum temperature of -4 and lower</th>\n",
              "      <th>Annual Days with a minimum temperature of -4 and lower</th>\n",
              "      <th>Jan Freezing Days</th>\n",
              "      <th>Feb Freezing Days</th>\n",
              "      <th>Dec Freezing Days</th>\n",
              "      <th>Annual Freezing Days</th>\n",
              "      <th>Jan Minimum Absolute Temperature</th>\n",
              "      <th>Feb Minimum Absolute Temperature</th>\n",
              "      <th>Mar Minimum Absolute Temperature</th>\n",
              "      <th>Oct Minimum Absolute Temperature</th>\n",
              "      <th>Nov Minimum Absolute Temperature</th>\n",
              "      <th>Dec Minimum Absolute Temperature</th>\n",
              "      <th>Minimum Annual Absolute Temperature</th>\n",
              "      <th>Mar maximum Temperature</th>\n",
              "      <th>Apr maximum Temperature</th>\n",
              "      <th>May maximum Temperature</th>\n",
              "      <th>June maximum Temperature</th>\n",
              "      <th>July maximum Temperature</th>\n",
              "      <th>Auq maximum Temperature</th>\n",
              "      <th>Sep maximum Temperature</th>\n",
              "      <th>Oct maximum Temperature</th>\n",
              "      <th>Maximum Annual Temperature</th>\n",
              "      <th>Apr Maximum Absolute Temperature</th>\n",
              "      <th>May Maximum Absolute Temperature</th>\n",
              "      <th>June Maximum Absolute Temperature</th>\n",
              "      <th>July Maximum Absolute Temperature</th>\n",
              "      <th>Auq Maximum Absolute Temperature</th>\n",
              "      <th>Sep Maximum Absolute Temperature</th>\n",
              "      <th>...</th>\n",
              "      <th>Annual Average Wind Speed</th>\n",
              "      <th>Jan Semi-Cloudy Days</th>\n",
              "      <th>Feb Semi-Cloudy Days</th>\n",
              "      <th>Mar Semi-Cloudy Days</th>\n",
              "      <th>Apr Semi-Cloudy Days</th>\n",
              "      <th>May Semi-Cloudy Days</th>\n",
              "      <th>Nov Semi-Cloudy Days</th>\n",
              "      <th>Dec Semi-Cloudy Days</th>\n",
              "      <th>Annual Semi-Cloudy Days</th>\n",
              "      <th>Jan Cloudy Days</th>\n",
              "      <th>Feb Cloudy Days</th>\n",
              "      <th>Mar Cloudy Days</th>\n",
              "      <th>Apr Cloudy Days</th>\n",
              "      <th>Dec Cloudy Days</th>\n",
              "      <th>Annual Cloudy Days</th>\n",
              "      <th>Mar Sunny Hours</th>\n",
              "      <th>Apr Sunny Hours</th>\n",
              "      <th>May Sunny Hours</th>\n",
              "      <th>June Sunny Hours</th>\n",
              "      <th>July Sunny Hours</th>\n",
              "      <th>Aug Sunny Hours</th>\n",
              "      <th>Sept Sunny Hours</th>\n",
              "      <th>Oct Sunny Hours</th>\n",
              "      <th>Annual Sunny Hours</th>\n",
              "      <th>Winter Rainfall</th>\n",
              "      <th>Spring Rainfall</th>\n",
              "      <th>Summer Rainfall</th>\n",
              "      <th>Autumn Rainfall</th>\n",
              "      <th>Winter Days With Rainfall &gt; 10mm</th>\n",
              "      <th>Spring Days With Rainfall &gt; 10mm</th>\n",
              "      <th>Summer Days With Rainfall &gt; 10mm</th>\n",
              "      <th>Autumn Days With Rainfall &gt; 10mm</th>\n",
              "      <th>Winter Days With Rainfall &gt; 5mm</th>\n",
              "      <th>Spring Days With Rainfall &gt; 5mm</th>\n",
              "      <th>Summer Days With Rainfall &gt; 5mm</th>\n",
              "      <th>Autumn Days With Rainfall &gt; 5mm</th>\n",
              "      <th>Winter Days With Rainfall</th>\n",
              "      <th>Spring Days With Rainfall</th>\n",
              "      <th>Summer Days With Rainfall</th>\n",
              "      <th>Autumn Days With Rainfall</th>\n",
              "    </tr>\n",
              "  </thead>\n",
              "  <tbody>\n",
              "    <tr>\n",
              "      <th>0</th>\n",
              "      <td>38.25</td>\n",
              "      <td>48.28</td>\n",
              "      <td>1332.0</td>\n",
              "      <td>-7.800000</td>\n",
              "      <td>-5.800000</td>\n",
              "      <td>-2.000000</td>\n",
              "      <td>5.100000</td>\n",
              "      <td>0.300000</td>\n",
              "      <td>-4.500000</td>\n",
              "      <td>3.000000</td>\n",
              "      <td>21.600000</td>\n",
              "      <td>17.300000</td>\n",
              "      <td>15.300000</td>\n",
              "      <td>71.3</td>\n",
              "      <td>27.9000</td>\n",
              "      <td>24.000000</td>\n",
              "      <td>24.200000</td>\n",
              "      <td>126.700000</td>\n",
              "      <td>-31.4</td>\n",
              "      <td>-33.8</td>\n",
              "      <td>-28.8</td>\n",
              "      <td>-21.0</td>\n",
              "      <td>-24.2</td>\n",
              "      <td>-27.0</td>\n",
              "      <td>-33.8</td>\n",
              "      <td>9.800000</td>\n",
              "      <td>16.6</td>\n",
              "      <td>19.900000</td>\n",
              "      <td>23.400000</td>\n",
              "      <td>25.100000</td>\n",
              "      <td>25.100000</td>\n",
              "      <td>22.700000</td>\n",
              "      <td>17.700000</td>\n",
              "      <td>15.5000</td>\n",
              "      <td>32.0</td>\n",
              "      <td>33.0</td>\n",
              "      <td>37.5</td>\n",
              "      <td>38.0</td>\n",
              "      <td>39.8</td>\n",
              "      <td>37.4</td>\n",
              "      <td>...</td>\n",
              "      <td>7.4</td>\n",
              "      <td>11.2</td>\n",
              "      <td>10.0</td>\n",
              "      <td>11.8</td>\n",
              "      <td>14.4</td>\n",
              "      <td>14.4</td>\n",
              "      <td>10.2</td>\n",
              "      <td>11.4</td>\n",
              "      <td>133.3</td>\n",
              "      <td>7.8</td>\n",
              "      <td>8.4</td>\n",
              "      <td>11.1</td>\n",
              "      <td>9.7</td>\n",
              "      <td>8.2</td>\n",
              "      <td>87.9</td>\n",
              "      <td>170.4</td>\n",
              "      <td>184.9</td>\n",
              "      <td>245.4</td>\n",
              "      <td>293.6</td>\n",
              "      <td>302.8</td>\n",
              "      <td>274.3</td>\n",
              "      <td>227.1</td>\n",
              "      <td>185.6</td>\n",
              "      <td>2478.4</td>\n",
              "      <td>81.5</td>\n",
              "      <td>101.5</td>\n",
              "      <td>21.8</td>\n",
              "      <td>90.7</td>\n",
              "      <td>1.8</td>\n",
              "      <td>2.7</td>\n",
              "      <td>0.5</td>\n",
              "      <td>2.7</td>\n",
              "      <td>5.8</td>\n",
              "      <td>6.8</td>\n",
              "      <td>1.3</td>\n",
              "      <td>5.8</td>\n",
              "      <td>28.4</td>\n",
              "      <td>33.1</td>\n",
              "      <td>14.4</td>\n",
              "      <td>24.8</td>\n",
              "    </tr>\n",
              "    <tr>\n",
              "      <th>1</th>\n",
              "      <td>39.05</td>\n",
              "      <td>48.05</td>\n",
              "      <td>749.0</td>\n",
              "      <td>-1.083333</td>\n",
              "      <td>0.550000</td>\n",
              "      <td>4.816667</td>\n",
              "      <td>11.950000</td>\n",
              "      <td>6.216667</td>\n",
              "      <td>2.316667</td>\n",
              "      <td>10.133333</td>\n",
              "      <td>7.166667</td>\n",
              "      <td>5.166667</td>\n",
              "      <td>1.333333</td>\n",
              "      <td>14.0</td>\n",
              "      <td>19.5000</td>\n",
              "      <td>12.833333</td>\n",
              "      <td>10.333333</td>\n",
              "      <td>48.666667</td>\n",
              "      <td>-12.0</td>\n",
              "      <td>-7.4</td>\n",
              "      <td>-4.8</td>\n",
              "      <td>2.6</td>\n",
              "      <td>-2.6</td>\n",
              "      <td>-7.4</td>\n",
              "      <td>-12.0</td>\n",
              "      <td>13.200000</td>\n",
              "      <td>15.4</td>\n",
              "      <td>21.700000</td>\n",
              "      <td>27.700000</td>\n",
              "      <td>29.700000</td>\n",
              "      <td>29.700000</td>\n",
              "      <td>24.000000</td>\n",
              "      <td>18.500000</td>\n",
              "      <td>18.0000</td>\n",
              "      <td>35.0</td>\n",
              "      <td>32.4</td>\n",
              "      <td>34.2</td>\n",
              "      <td>39.2</td>\n",
              "      <td>36.4</td>\n",
              "      <td>36.8</td>\n",
              "      <td>...</td>\n",
              "      <td>7.4</td>\n",
              "      <td>10.3</td>\n",
              "      <td>10.2</td>\n",
              "      <td>15.0</td>\n",
              "      <td>10.5</td>\n",
              "      <td>10.2</td>\n",
              "      <td>7.2</td>\n",
              "      <td>8.8</td>\n",
              "      <td>115.6</td>\n",
              "      <td>9.8</td>\n",
              "      <td>10.5</td>\n",
              "      <td>9.3</td>\n",
              "      <td>12.7</td>\n",
              "      <td>8.0</td>\n",
              "      <td>93.0</td>\n",
              "      <td>163.6</td>\n",
              "      <td>161.4</td>\n",
              "      <td>235.8</td>\n",
              "      <td>290.0</td>\n",
              "      <td>315.9</td>\n",
              "      <td>287.0</td>\n",
              "      <td>201.8</td>\n",
              "      <td>153.2</td>\n",
              "      <td>2380.9</td>\n",
              "      <td>73.8</td>\n",
              "      <td>96.0</td>\n",
              "      <td>55.3</td>\n",
              "      <td>87.9</td>\n",
              "      <td>1.9</td>\n",
              "      <td>2.3</td>\n",
              "      <td>2.1</td>\n",
              "      <td>2.3</td>\n",
              "      <td>5.5</td>\n",
              "      <td>7.2</td>\n",
              "      <td>4.0</td>\n",
              "      <td>6.3</td>\n",
              "      <td>26.3</td>\n",
              "      <td>31.0</td>\n",
              "      <td>14.5</td>\n",
              "      <td>26.5</td>\n",
              "    </tr>\n",
              "    <tr>\n",
              "      <th>2</th>\n",
              "      <td>37.63</td>\n",
              "      <td>48.51</td>\n",
              "      <td>1796.0</td>\n",
              "      <td>-9.300000</td>\n",
              "      <td>-7.600000</td>\n",
              "      <td>-3.000000</td>\n",
              "      <td>2.600000</td>\n",
              "      <td>-2.300000</td>\n",
              "      <td>-5.700000</td>\n",
              "      <td>2.000000</td>\n",
              "      <td>23.500000</td>\n",
              "      <td>19.000000</td>\n",
              "      <td>17.500000</td>\n",
              "      <td>86.5</td>\n",
              "      <td>29.4000</td>\n",
              "      <td>25.900000</td>\n",
              "      <td>26.700000</td>\n",
              "      <td>148.700000</td>\n",
              "      <td>-31.5</td>\n",
              "      <td>-27.6</td>\n",
              "      <td>-24.5</td>\n",
              "      <td>-7.6</td>\n",
              "      <td>-20.6</td>\n",
              "      <td>-25.0</td>\n",
              "      <td>-31.5</td>\n",
              "      <td>7.900000</td>\n",
              "      <td>14.3</td>\n",
              "      <td>19.100000</td>\n",
              "      <td>23.600000</td>\n",
              "      <td>25.200000</td>\n",
              "      <td>26.300000</td>\n",
              "      <td>23.200000</td>\n",
              "      <td>17.200000</td>\n",
              "      <td>14.5000</td>\n",
              "      <td>27.6</td>\n",
              "      <td>29.0</td>\n",
              "      <td>34.8</td>\n",
              "      <td>35.4</td>\n",
              "      <td>35.0</td>\n",
              "      <td>33.6</td>\n",
              "      <td>...</td>\n",
              "      <td>4.5</td>\n",
              "      <td>11.2</td>\n",
              "      <td>9.5</td>\n",
              "      <td>11.0</td>\n",
              "      <td>13.6</td>\n",
              "      <td>13.0</td>\n",
              "      <td>10.9</td>\n",
              "      <td>11.9</td>\n",
              "      <td>116.9</td>\n",
              "      <td>10.5</td>\n",
              "      <td>10.2</td>\n",
              "      <td>11.5</td>\n",
              "      <td>9.8</td>\n",
              "      <td>9.2</td>\n",
              "      <td>70.9</td>\n",
              "      <td>179.2</td>\n",
              "      <td>205.4</td>\n",
              "      <td>273.2</td>\n",
              "      <td>332.2</td>\n",
              "      <td>354.1</td>\n",
              "      <td>338.1</td>\n",
              "      <td>299.7</td>\n",
              "      <td>228.6</td>\n",
              "      <td>2781.8</td>\n",
              "      <td>113.2</td>\n",
              "      <td>132.4</td>\n",
              "      <td>24.7</td>\n",
              "      <td>108.3</td>\n",
              "      <td>2.6</td>\n",
              "      <td>3.9</td>\n",
              "      <td>0.5</td>\n",
              "      <td>3.1</td>\n",
              "      <td>7.5</td>\n",
              "      <td>10.2</td>\n",
              "      <td>2.0</td>\n",
              "      <td>7.3</td>\n",
              "      <td>35.7</td>\n",
              "      <td>30.1</td>\n",
              "      <td>7.6</td>\n",
              "      <td>24.6</td>\n",
              "    </tr>\n",
              "    <tr>\n",
              "      <th>3</th>\n",
              "      <td>38.38</td>\n",
              "      <td>47.66</td>\n",
              "      <td>1568.5</td>\n",
              "      <td>-3.900000</td>\n",
              "      <td>-2.700000</td>\n",
              "      <td>0.600000</td>\n",
              "      <td>8.500000</td>\n",
              "      <td>2.600000</td>\n",
              "      <td>-1.300000</td>\n",
              "      <td>6.200000</td>\n",
              "      <td>16.700000</td>\n",
              "      <td>10.900000</td>\n",
              "      <td>9.200000</td>\n",
              "      <td>46.2</td>\n",
              "      <td>24.5000</td>\n",
              "      <td>19.700000</td>\n",
              "      <td>18.200000</td>\n",
              "      <td>91.900000</td>\n",
              "      <td>-18.4</td>\n",
              "      <td>-16.0</td>\n",
              "      <td>-12.0</td>\n",
              "      <td>-3.4</td>\n",
              "      <td>-12.0</td>\n",
              "      <td>-15.8</td>\n",
              "      <td>-18.4</td>\n",
              "      <td>9.500000</td>\n",
              "      <td>14.5</td>\n",
              "      <td>19.300000</td>\n",
              "      <td>24.200000</td>\n",
              "      <td>26.200000</td>\n",
              "      <td>26.800000</td>\n",
              "      <td>22.300000</td>\n",
              "      <td>17.500000</td>\n",
              "      <td>15.5000</td>\n",
              "      <td>29.4</td>\n",
              "      <td>30.0</td>\n",
              "      <td>34.0</td>\n",
              "      <td>34.8</td>\n",
              "      <td>37.4</td>\n",
              "      <td>34.2</td>\n",
              "      <td>...</td>\n",
              "      <td>4.4</td>\n",
              "      <td>9.6</td>\n",
              "      <td>9.5</td>\n",
              "      <td>10.9</td>\n",
              "      <td>11.6</td>\n",
              "      <td>12.7</td>\n",
              "      <td>7.4</td>\n",
              "      <td>9.9</td>\n",
              "      <td>114.0</td>\n",
              "      <td>6.8</td>\n",
              "      <td>6.2</td>\n",
              "      <td>9.0</td>\n",
              "      <td>9.9</td>\n",
              "      <td>5.6</td>\n",
              "      <td>75.4</td>\n",
              "      <td>173.2</td>\n",
              "      <td>177.8</td>\n",
              "      <td>232.7</td>\n",
              "      <td>287.1</td>\n",
              "      <td>282.5</td>\n",
              "      <td>278.0</td>\n",
              "      <td>222.3</td>\n",
              "      <td>197.3</td>\n",
              "      <td>2482.4</td>\n",
              "      <td>87.2</td>\n",
              "      <td>151.5</td>\n",
              "      <td>61.0</td>\n",
              "      <td>73.3</td>\n",
              "      <td>2.0</td>\n",
              "      <td>4.6</td>\n",
              "      <td>1.9</td>\n",
              "      <td>2.0</td>\n",
              "      <td>5.8</td>\n",
              "      <td>10.3</td>\n",
              "      <td>3.3</td>\n",
              "      <td>4.7</td>\n",
              "      <td>25.5</td>\n",
              "      <td>32.2</td>\n",
              "      <td>14.7</td>\n",
              "      <td>20.4</td>\n",
              "    </tr>\n",
              "    <tr>\n",
              "      <th>4</th>\n",
              "      <td>39.65</td>\n",
              "      <td>47.91</td>\n",
              "      <td>31.9</td>\n",
              "      <td>-0.700000</td>\n",
              "      <td>0.100000</td>\n",
              "      <td>3.200000</td>\n",
              "      <td>11.400000</td>\n",
              "      <td>5.600000</td>\n",
              "      <td>1.000000</td>\n",
              "      <td>9.800000</td>\n",
              "      <td>4.900000</td>\n",
              "      <td>3.300000</td>\n",
              "      <td>2.200000</td>\n",
              "      <td>11.2</td>\n",
              "      <td>18.3000</td>\n",
              "      <td>13.800000</td>\n",
              "      <td>13.400000</td>\n",
              "      <td>52.800000</td>\n",
              "      <td>-15.0</td>\n",
              "      <td>-12.0</td>\n",
              "      <td>-10.0</td>\n",
              "      <td>2.6</td>\n",
              "      <td>-3.4</td>\n",
              "      <td>-8.4</td>\n",
              "      <td>-15.0</td>\n",
              "      <td>13.400000</td>\n",
              "      <td>19.5</td>\n",
              "      <td>25.400000</td>\n",
              "      <td>31.400000</td>\n",
              "      <td>33.800000</td>\n",
              "      <td>33.100000</td>\n",
              "      <td>27.900000</td>\n",
              "      <td>21.000000</td>\n",
              "      <td>20.5000</td>\n",
              "      <td>37.2</td>\n",
              "      <td>35.4</td>\n",
              "      <td>40.0</td>\n",
              "      <td>40.2</td>\n",
              "      <td>41.0</td>\n",
              "      <td>36.8</td>\n",
              "      <td>...</td>\n",
              "      <td>4.0</td>\n",
              "      <td>9.0</td>\n",
              "      <td>7.4</td>\n",
              "      <td>9.9</td>\n",
              "      <td>11.6</td>\n",
              "      <td>12.3</td>\n",
              "      <td>9.0</td>\n",
              "      <td>8.6</td>\n",
              "      <td>109.7</td>\n",
              "      <td>11.6</td>\n",
              "      <td>11.5</td>\n",
              "      <td>12.7</td>\n",
              "      <td>10.2</td>\n",
              "      <td>11.3</td>\n",
              "      <td>98.7</td>\n",
              "      <td>143.1</td>\n",
              "      <td>171.0</td>\n",
              "      <td>237.9</td>\n",
              "      <td>282.4</td>\n",
              "      <td>287.3</td>\n",
              "      <td>266.2</td>\n",
              "      <td>204.1</td>\n",
              "      <td>158.2</td>\n",
              "      <td>2221.3</td>\n",
              "      <td>63.1</td>\n",
              "      <td>85.7</td>\n",
              "      <td>39.4</td>\n",
              "      <td>83.0</td>\n",
              "      <td>1.3</td>\n",
              "      <td>2.5</td>\n",
              "      <td>1.2</td>\n",
              "      <td>2.4</td>\n",
              "      <td>4.2</td>\n",
              "      <td>5.8</td>\n",
              "      <td>2.1</td>\n",
              "      <td>5.7</td>\n",
              "      <td>22.6</td>\n",
              "      <td>22.8</td>\n",
              "      <td>10.2</td>\n",
              "      <td>23.6</td>\n",
              "    </tr>\n",
              "    <tr>\n",
              "      <th>...</th>\n",
              "      <td>...</td>\n",
              "      <td>...</td>\n",
              "      <td>...</td>\n",
              "      <td>...</td>\n",
              "      <td>...</td>\n",
              "      <td>...</td>\n",
              "      <td>...</td>\n",
              "      <td>...</td>\n",
              "      <td>...</td>\n",
              "      <td>...</td>\n",
              "      <td>...</td>\n",
              "      <td>...</td>\n",
              "      <td>...</td>\n",
              "      <td>...</td>\n",
              "      <td>...</td>\n",
              "      <td>...</td>\n",
              "      <td>...</td>\n",
              "      <td>...</td>\n",
              "      <td>...</td>\n",
              "      <td>...</td>\n",
              "      <td>...</td>\n",
              "      <td>...</td>\n",
              "      <td>...</td>\n",
              "      <td>...</td>\n",
              "      <td>...</td>\n",
              "      <td>...</td>\n",
              "      <td>...</td>\n",
              "      <td>...</td>\n",
              "      <td>...</td>\n",
              "      <td>...</td>\n",
              "      <td>...</td>\n",
              "      <td>...</td>\n",
              "      <td>...</td>\n",
              "      <td>...</td>\n",
              "      <td>...</td>\n",
              "      <td>...</td>\n",
              "      <td>...</td>\n",
              "      <td>...</td>\n",
              "      <td>...</td>\n",
              "      <td>...</td>\n",
              "      <td>...</td>\n",
              "      <td>...</td>\n",
              "      <td>...</td>\n",
              "      <td>...</td>\n",
              "      <td>...</td>\n",
              "      <td>...</td>\n",
              "      <td>...</td>\n",
              "      <td>...</td>\n",
              "      <td>...</td>\n",
              "      <td>...</td>\n",
              "      <td>...</td>\n",
              "      <td>...</td>\n",
              "      <td>...</td>\n",
              "      <td>...</td>\n",
              "      <td>...</td>\n",
              "      <td>...</td>\n",
              "      <td>...</td>\n",
              "      <td>...</td>\n",
              "      <td>...</td>\n",
              "      <td>...</td>\n",
              "      <td>...</td>\n",
              "      <td>...</td>\n",
              "      <td>...</td>\n",
              "      <td>...</td>\n",
              "      <td>...</td>\n",
              "      <td>...</td>\n",
              "      <td>...</td>\n",
              "      <td>...</td>\n",
              "      <td>...</td>\n",
              "      <td>...</td>\n",
              "      <td>...</td>\n",
              "      <td>...</td>\n",
              "      <td>...</td>\n",
              "      <td>...</td>\n",
              "      <td>...</td>\n",
              "      <td>...</td>\n",
              "      <td>...</td>\n",
              "      <td>...</td>\n",
              "      <td>...</td>\n",
              "      <td>...</td>\n",
              "      <td>...</td>\n",
              "    </tr>\n",
              "    <tr>\n",
              "      <th>159</th>\n",
              "      <td>30.50</td>\n",
              "      <td>54.25</td>\n",
              "      <td>1546.6</td>\n",
              "      <td>-1.100000</td>\n",
              "      <td>1.800000</td>\n",
              "      <td>4.900000</td>\n",
              "      <td>8.800000</td>\n",
              "      <td>3.400000</td>\n",
              "      <td>0.200000</td>\n",
              "      <td>9.300000</td>\n",
              "      <td>9.200000</td>\n",
              "      <td>2.500000</td>\n",
              "      <td>5.500000</td>\n",
              "      <td>18.3</td>\n",
              "      <td>19.6000</td>\n",
              "      <td>11.900000</td>\n",
              "      <td>16.500000</td>\n",
              "      <td>57.400000</td>\n",
              "      <td>-11.6</td>\n",
              "      <td>-11.4</td>\n",
              "      <td>-6.4</td>\n",
              "      <td>0.6</td>\n",
              "      <td>-5.6</td>\n",
              "      <td>-10.4</td>\n",
              "      <td>-11.6</td>\n",
              "      <td>20.600000</td>\n",
              "      <td>25.7</td>\n",
              "      <td>31.700000</td>\n",
              "      <td>36.500000</td>\n",
              "      <td>38.600000</td>\n",
              "      <td>36.900000</td>\n",
              "      <td>33.700000</td>\n",
              "      <td>27.800000</td>\n",
              "      <td>26.3000</td>\n",
              "      <td>33.4</td>\n",
              "      <td>38.4</td>\n",
              "      <td>41.6</td>\n",
              "      <td>43.4</td>\n",
              "      <td>41.2</td>\n",
              "      <td>38.4</td>\n",
              "      <td>...</td>\n",
              "      <td>6.9</td>\n",
              "      <td>10.2</td>\n",
              "      <td>8.6</td>\n",
              "      <td>10.3</td>\n",
              "      <td>11.3</td>\n",
              "      <td>7.7</td>\n",
              "      <td>9.3</td>\n",
              "      <td>9.0</td>\n",
              "      <td>86.1</td>\n",
              "      <td>3.6</td>\n",
              "      <td>3.8</td>\n",
              "      <td>4.4</td>\n",
              "      <td>4.6</td>\n",
              "      <td>3.7</td>\n",
              "      <td>25.3</td>\n",
              "      <td>267.7</td>\n",
              "      <td>268.8</td>\n",
              "      <td>335.6</td>\n",
              "      <td>345.9</td>\n",
              "      <td>338.4</td>\n",
              "      <td>348.2</td>\n",
              "      <td>318.1</td>\n",
              "      <td>302.0</td>\n",
              "      <td>3458.8</td>\n",
              "      <td>37.7</td>\n",
              "      <td>9.8</td>\n",
              "      <td>0.4</td>\n",
              "      <td>16.7</td>\n",
              "      <td>1.1</td>\n",
              "      <td>0.2</td>\n",
              "      <td>0.0</td>\n",
              "      <td>0.3</td>\n",
              "      <td>2.4</td>\n",
              "      <td>0.5</td>\n",
              "      <td>0.0</td>\n",
              "      <td>1.2</td>\n",
              "      <td>10.8</td>\n",
              "      <td>5.3</td>\n",
              "      <td>0.5</td>\n",
              "      <td>6.4</td>\n",
              "    </tr>\n",
              "    <tr>\n",
              "      <th>160</th>\n",
              "      <td>33.03</td>\n",
              "      <td>55.55</td>\n",
              "      <td>1188.0</td>\n",
              "      <td>1.100000</td>\n",
              "      <td>3.800000</td>\n",
              "      <td>8.000000</td>\n",
              "      <td>13.500000</td>\n",
              "      <td>7.400000</td>\n",
              "      <td>2.700000</td>\n",
              "      <td>13.000000</td>\n",
              "      <td>3.200000</td>\n",
              "      <td>1.200000</td>\n",
              "      <td>1.700000</td>\n",
              "      <td>6.3</td>\n",
              "      <td>12.2000</td>\n",
              "      <td>5.400000</td>\n",
              "      <td>7.200000</td>\n",
              "      <td>28.300000</td>\n",
              "      <td>-16.2</td>\n",
              "      <td>-11.0</td>\n",
              "      <td>-4.5</td>\n",
              "      <td>1.8</td>\n",
              "      <td>-4.0</td>\n",
              "      <td>-11.6</td>\n",
              "      <td>-16.2</td>\n",
              "      <td>19.300000</td>\n",
              "      <td>25.5</td>\n",
              "      <td>31.000000</td>\n",
              "      <td>36.000000</td>\n",
              "      <td>37.700000</td>\n",
              "      <td>36.100000</td>\n",
              "      <td>32.500000</td>\n",
              "      <td>26.400000</td>\n",
              "      <td>25.1000</td>\n",
              "      <td>34.6</td>\n",
              "      <td>39.6</td>\n",
              "      <td>43.6</td>\n",
              "      <td>44.6</td>\n",
              "      <td>43.8</td>\n",
              "      <td>39.6</td>\n",
              "      <td>...</td>\n",
              "      <td>6.2</td>\n",
              "      <td>9.3</td>\n",
              "      <td>9.6</td>\n",
              "      <td>10.5</td>\n",
              "      <td>11.8</td>\n",
              "      <td>9.7</td>\n",
              "      <td>9.1</td>\n",
              "      <td>10.2</td>\n",
              "      <td>83.4</td>\n",
              "      <td>6.1</td>\n",
              "      <td>4.3</td>\n",
              "      <td>6.4</td>\n",
              "      <td>5.1</td>\n",
              "      <td>4.7</td>\n",
              "      <td>31.7</td>\n",
              "      <td>239.5</td>\n",
              "      <td>259.5</td>\n",
              "      <td>323.9</td>\n",
              "      <td>354.2</td>\n",
              "      <td>365.0</td>\n",
              "      <td>362.4</td>\n",
              "      <td>315.5</td>\n",
              "      <td>300.4</td>\n",
              "      <td>3371.3</td>\n",
              "      <td>60.2</td>\n",
              "      <td>25.9</td>\n",
              "      <td>0.1</td>\n",
              "      <td>22.7</td>\n",
              "      <td>1.7</td>\n",
              "      <td>0.5</td>\n",
              "      <td>0.0</td>\n",
              "      <td>0.5</td>\n",
              "      <td>4.7</td>\n",
              "      <td>1.9</td>\n",
              "      <td>0.0</td>\n",
              "      <td>1.8</td>\n",
              "      <td>17.9</td>\n",
              "      <td>9.1</td>\n",
              "      <td>0.3</td>\n",
              "      <td>7.6</td>\n",
              "    </tr>\n",
              "    <tr>\n",
              "      <th>161</th>\n",
              "      <td>33.60</td>\n",
              "      <td>56.91</td>\n",
              "      <td>711.0</td>\n",
              "      <td>1.800000</td>\n",
              "      <td>4.600000</td>\n",
              "      <td>9.500000</td>\n",
              "      <td>14.600000</td>\n",
              "      <td>8.200000</td>\n",
              "      <td>3.300000</td>\n",
              "      <td>14.800000</td>\n",
              "      <td>2.700000</td>\n",
              "      <td>0.900000</td>\n",
              "      <td>1.300000</td>\n",
              "      <td>5.0</td>\n",
              "      <td>10.9000</td>\n",
              "      <td>4.300000</td>\n",
              "      <td>7.000000</td>\n",
              "      <td>24.300000</td>\n",
              "      <td>-9.0</td>\n",
              "      <td>-8.0</td>\n",
              "      <td>-3.0</td>\n",
              "      <td>2.0</td>\n",
              "      <td>-5.0</td>\n",
              "      <td>-9.0</td>\n",
              "      <td>-9.0</td>\n",
              "      <td>23.000000</td>\n",
              "      <td>29.4</td>\n",
              "      <td>35.300000</td>\n",
              "      <td>40.700000</td>\n",
              "      <td>42.200000</td>\n",
              "      <td>40.500000</td>\n",
              "      <td>37.100000</td>\n",
              "      <td>30.600000</td>\n",
              "      <td>29.0000</td>\n",
              "      <td>39.5</td>\n",
              "      <td>45.0</td>\n",
              "      <td>47.8</td>\n",
              "      <td>49.4</td>\n",
              "      <td>48.2</td>\n",
              "      <td>44.6</td>\n",
              "      <td>...</td>\n",
              "      <td>2.9</td>\n",
              "      <td>9.7</td>\n",
              "      <td>9.5</td>\n",
              "      <td>11.2</td>\n",
              "      <td>12.7</td>\n",
              "      <td>9.0</td>\n",
              "      <td>8.7</td>\n",
              "      <td>9.9</td>\n",
              "      <td>80.4</td>\n",
              "      <td>4.8</td>\n",
              "      <td>3.9</td>\n",
              "      <td>5.2</td>\n",
              "      <td>4.3</td>\n",
              "      <td>4.4</td>\n",
              "      <td>26.4</td>\n",
              "      <td>233.9</td>\n",
              "      <td>258.9</td>\n",
              "      <td>319.9</td>\n",
              "      <td>348.3</td>\n",
              "      <td>358.7</td>\n",
              "      <td>353.7</td>\n",
              "      <td>317.3</td>\n",
              "      <td>293.4</td>\n",
              "      <td>3331.5</td>\n",
              "      <td>47.0</td>\n",
              "      <td>16.9</td>\n",
              "      <td>0.1</td>\n",
              "      <td>18.2</td>\n",
              "      <td>1.3</td>\n",
              "      <td>0.4</td>\n",
              "      <td>0.0</td>\n",
              "      <td>0.3</td>\n",
              "      <td>3.3</td>\n",
              "      <td>1.3</td>\n",
              "      <td>0.0</td>\n",
              "      <td>1.2</td>\n",
              "      <td>18.8</td>\n",
              "      <td>8.4</td>\n",
              "      <td>0.6</td>\n",
              "      <td>8.4</td>\n",
              "    </tr>\n",
              "    <tr>\n",
              "      <th>162</th>\n",
              "      <td>31.90</td>\n",
              "      <td>54.28</td>\n",
              "      <td>1237.2</td>\n",
              "      <td>-0.400000</td>\n",
              "      <td>2.100000</td>\n",
              "      <td>6.900000</td>\n",
              "      <td>11.500000</td>\n",
              "      <td>5.100000</td>\n",
              "      <td>0.700000</td>\n",
              "      <td>11.900000</td>\n",
              "      <td>5.700000</td>\n",
              "      <td>1.900000</td>\n",
              "      <td>3.800000</td>\n",
              "      <td>12.5</td>\n",
              "      <td>18.9000</td>\n",
              "      <td>9.600000</td>\n",
              "      <td>14.700000</td>\n",
              "      <td>48.900000</td>\n",
              "      <td>-14.0</td>\n",
              "      <td>-10.0</td>\n",
              "      <td>-7.0</td>\n",
              "      <td>-3.0</td>\n",
              "      <td>-10.0</td>\n",
              "      <td>-16.0</td>\n",
              "      <td>-16.0</td>\n",
              "      <td>20.600000</td>\n",
              "      <td>26.6</td>\n",
              "      <td>32.300000</td>\n",
              "      <td>37.800000</td>\n",
              "      <td>39.500000</td>\n",
              "      <td>38.000000</td>\n",
              "      <td>34.300000</td>\n",
              "      <td>27.700000</td>\n",
              "      <td>26.6000</td>\n",
              "      <td>38.0</td>\n",
              "      <td>41.0</td>\n",
              "      <td>44.0</td>\n",
              "      <td>45.4</td>\n",
              "      <td>45.6</td>\n",
              "      <td>42.0</td>\n",
              "      <td>...</td>\n",
              "      <td>5.1</td>\n",
              "      <td>9.8</td>\n",
              "      <td>9.1</td>\n",
              "      <td>11.8</td>\n",
              "      <td>12.6</td>\n",
              "      <td>10.1</td>\n",
              "      <td>8.6</td>\n",
              "      <td>9.5</td>\n",
              "      <td>86.9</td>\n",
              "      <td>6.1</td>\n",
              "      <td>4.7</td>\n",
              "      <td>6.0</td>\n",
              "      <td>6.1</td>\n",
              "      <td>5.4</td>\n",
              "      <td>35.2</td>\n",
              "      <td>225.4</td>\n",
              "      <td>246.2</td>\n",
              "      <td>302.7</td>\n",
              "      <td>343.1</td>\n",
              "      <td>347.2</td>\n",
              "      <td>346.1</td>\n",
              "      <td>316.4</td>\n",
              "      <td>286.9</td>\n",
              "      <td>3244.9</td>\n",
              "      <td>32.3</td>\n",
              "      <td>11.2</td>\n",
              "      <td>0.4</td>\n",
              "      <td>15.3</td>\n",
              "      <td>0.8</td>\n",
              "      <td>0.2</td>\n",
              "      <td>0.0</td>\n",
              "      <td>0.3</td>\n",
              "      <td>2.2</td>\n",
              "      <td>0.7</td>\n",
              "      <td>0.0</td>\n",
              "      <td>1.1</td>\n",
              "      <td>13.1</td>\n",
              "      <td>6.8</td>\n",
              "      <td>0.4</td>\n",
              "      <td>6.7</td>\n",
              "    </tr>\n",
              "    <tr>\n",
              "      <th>163</th>\n",
              "      <td>36.11</td>\n",
              "      <td>48.58</td>\n",
              "      <td>1887.0</td>\n",
              "      <td>-6.737500</td>\n",
              "      <td>-4.617647</td>\n",
              "      <td>0.211765</td>\n",
              "      <td>8.123529</td>\n",
              "      <td>1.335294</td>\n",
              "      <td>-3.088235</td>\n",
              "      <td>5.856250</td>\n",
              "      <td>21.000000</td>\n",
              "      <td>14.058824</td>\n",
              "      <td>11.882353</td>\n",
              "      <td>54.5</td>\n",
              "      <td>28.3125</td>\n",
              "      <td>24.941176</td>\n",
              "      <td>23.647059</td>\n",
              "      <td>105.937500</td>\n",
              "      <td>-22.0</td>\n",
              "      <td>-21.4</td>\n",
              "      <td>-14.5</td>\n",
              "      <td>-1.0</td>\n",
              "      <td>-12.0</td>\n",
              "      <td>-21.0</td>\n",
              "      <td>-22.0</td>\n",
              "      <td>9.811765</td>\n",
              "      <td>15.6</td>\n",
              "      <td>20.911765</td>\n",
              "      <td>27.535294</td>\n",
              "      <td>31.047059</td>\n",
              "      <td>31.429412</td>\n",
              "      <td>26.405882</td>\n",
              "      <td>19.447059</td>\n",
              "      <td>16.8625</td>\n",
              "      <td>27.2</td>\n",
              "      <td>30.6</td>\n",
              "      <td>35.5</td>\n",
              "      <td>37.2</td>\n",
              "      <td>36.2</td>\n",
              "      <td>33.6</td>\n",
              "      <td>...</td>\n",
              "      <td>7.8</td>\n",
              "      <td>11.2</td>\n",
              "      <td>10.6</td>\n",
              "      <td>12.8</td>\n",
              "      <td>14.0</td>\n",
              "      <td>13.2</td>\n",
              "      <td>11.3</td>\n",
              "      <td>11.9</td>\n",
              "      <td>113.0</td>\n",
              "      <td>8.4</td>\n",
              "      <td>7.2</td>\n",
              "      <td>7.8</td>\n",
              "      <td>8.0</td>\n",
              "      <td>7.5</td>\n",
              "      <td>50.8</td>\n",
              "      <td>212.4</td>\n",
              "      <td>229.9</td>\n",
              "      <td>298.1</td>\n",
              "      <td>347.7</td>\n",
              "      <td>351.5</td>\n",
              "      <td>342.8</td>\n",
              "      <td>311.2</td>\n",
              "      <td>253.8</td>\n",
              "      <td>3013.0</td>\n",
              "      <td>142.1</td>\n",
              "      <td>124.2</td>\n",
              "      <td>15.7</td>\n",
              "      <td>112.8</td>\n",
              "      <td>4.2</td>\n",
              "      <td>3.8</td>\n",
              "      <td>0.4</td>\n",
              "      <td>3.3</td>\n",
              "      <td>9.0</td>\n",
              "      <td>8.3</td>\n",
              "      <td>1.1</td>\n",
              "      <td>7.7</td>\n",
              "      <td>35.2</td>\n",
              "      <td>30.6</td>\n",
              "      <td>9.1</td>\n",
              "      <td>25.5</td>\n",
              "    </tr>\n",
              "  </tbody>\n",
              "</table>\n",
              "<p>164 rows × 192 columns</p>\n",
              "</div>"
            ],
            "text/plain": [
              "     Longitude  Latitude  ...  Summer Days With Rainfall  Autumn Days With Rainfall\n",
              "0        38.25     48.28  ...                       14.4                       24.8\n",
              "1        39.05     48.05  ...                       14.5                       26.5\n",
              "2        37.63     48.51  ...                        7.6                       24.6\n",
              "3        38.38     47.66  ...                       14.7                       20.4\n",
              "4        39.65     47.91  ...                       10.2                       23.6\n",
              "..         ...       ...  ...                        ...                        ...\n",
              "159      30.50     54.25  ...                        0.5                        6.4\n",
              "160      33.03     55.55  ...                        0.3                        7.6\n",
              "161      33.60     56.91  ...                        0.6                        8.4\n",
              "162      31.90     54.28  ...                        0.4                        6.7\n",
              "163      36.11     48.58  ...                        9.1                       25.5\n",
              "\n",
              "[164 rows x 192 columns]"
            ]
          },
          "metadata": {
            "tags": []
          },
          "execution_count": 10
        }
      ]
    },
    {
      "cell_type": "code",
      "metadata": {
        "id": "mUe6S50V4vHX"
      },
      "source": [
        "X_train, X_test, y_train, y_test = train_test_split(X, y, test_size=0.3, random_state=101)"
      ],
      "execution_count": null,
      "outputs": []
    },
    {
      "cell_type": "code",
      "metadata": {
        "id": "__Oot5Hk44ud"
      },
      "source": [
        "logmodel = LogisticRegression(solver='saga')"
      ],
      "execution_count": null,
      "outputs": []
    },
    {
      "cell_type": "code",
      "metadata": {
        "id": "uPZJ0Ko45ZeQ",
        "colab": {
          "base_uri": "https://localhost:8080/",
          "height": 140
        },
        "outputId": "e256b455-e124-45fc-f876-7ef8cb67e601"
      },
      "source": [
        "logmodel.fit(X_train,y_train)"
      ],
      "execution_count": null,
      "outputs": [
        {
          "output_type": "stream",
          "text": [
            "/usr/local/lib/python3.6/dist-packages/sklearn/linear_model/_sag.py:330: ConvergenceWarning: The max_iter was reached which means the coef_ did not converge\n",
            "  \"the coef_ did not converge\", ConvergenceWarning)\n"
          ],
          "name": "stderr"
        },
        {
          "output_type": "execute_result",
          "data": {
            "text/plain": [
              "LogisticRegression(C=1.0, class_weight=None, dual=False, fit_intercept=True,\n",
              "                   intercept_scaling=1, l1_ratio=None, max_iter=100,\n",
              "                   multi_class='auto', n_jobs=None, penalty='l2',\n",
              "                   random_state=None, solver='saga', tol=0.0001, verbose=0,\n",
              "                   warm_start=False)"
            ]
          },
          "metadata": {
            "tags": []
          },
          "execution_count": 13
        }
      ]
    },
    {
      "cell_type": "code",
      "metadata": {
        "id": "SRMNmD1W5kEU"
      },
      "source": [
        "predictions = logmodel.predict(X_test)"
      ],
      "execution_count": null,
      "outputs": []
    },
    {
      "cell_type": "code",
      "metadata": {
        "id": "RYIHGAn57LSR",
        "colab": {
          "base_uri": "https://localhost:8080/",
          "height": 175
        },
        "outputId": "ba28fe89-d530-4e97-c303-9c745dd2b7eb"
      },
      "source": [
        "print(classification_report(y_test, predictions))"
      ],
      "execution_count": null,
      "outputs": [
        {
          "output_type": "stream",
          "text": [
            "              precision    recall  f1-score   support\n",
            "\n",
            "           0       0.96      0.92      0.94        26\n",
            "           1       0.92      0.96      0.94        24\n",
            "\n",
            "    accuracy                           0.94        50\n",
            "   macro avg       0.94      0.94      0.94        50\n",
            "weighted avg       0.94      0.94      0.94        50\n",
            "\n"
          ],
          "name": "stdout"
        }
      ]
    },
    {
      "cell_type": "code",
      "metadata": {
        "id": "og2LGsdb7lQE",
        "colab": {
          "base_uri": "https://localhost:8080/",
          "height": 52
        },
        "outputId": "d3c4b761-8f88-4d21-ace5-d2977bcbfc39"
      },
      "source": [
        "confusion_matrix(y_test, predictions)"
      ],
      "execution_count": null,
      "outputs": [
        {
          "output_type": "execute_result",
          "data": {
            "text/plain": [
              "array([[24,  2],\n",
              "       [ 1, 23]])"
            ]
          },
          "metadata": {
            "tags": []
          },
          "execution_count": 16
        }
      ]
    },
    {
      "cell_type": "markdown",
      "metadata": {
        "id": "cB0RwP3B-Kkn"
      },
      "source": [
        "#StatsModels_Logistic"
      ]
    },
    {
      "cell_type": "code",
      "metadata": {
        "id": "ed0CDEmWDMdg",
        "colab": {
          "base_uri": "https://localhost:8080/"
        },
        "outputId": "4400bf17-3ec7-449d-ef32-2104dfbccb4a"
      },
      "source": [
        "df2 = pd.read_csv('Factor Analysis_logistic.csv')\n",
        "df2"
      ],
      "execution_count": null,
      "outputs": [
        {
          "output_type": "execute_result",
          "data": {
            "text/html": [
              "<div>\n",
              "<style scoped>\n",
              "    .dataframe tbody tr th:only-of-type {\n",
              "        vertical-align: middle;\n",
              "    }\n",
              "\n",
              "    .dataframe tbody tr th {\n",
              "        vertical-align: top;\n",
              "    }\n",
              "\n",
              "    .dataframe thead th {\n",
              "        text-align: right;\n",
              "    }\n",
              "</style>\n",
              "<table border=\"1\" class=\"dataframe\">\n",
              "  <thead>\n",
              "    <tr style=\"text-align: right;\">\n",
              "      <th></th>\n",
              "      <th>STATION</th>\n",
              "      <th>Longitude</th>\n",
              "      <th>Latitude</th>\n",
              "      <th>Elevation</th>\n",
              "      <th>F1</th>\n",
              "      <th>F2</th>\n",
              "      <th>F3</th>\n",
              "      <th>F4</th>\n",
              "      <th>F5</th>\n",
              "      <th>F6</th>\n",
              "      <th>F7</th>\n",
              "      <th>F8</th>\n",
              "      <th>F9</th>\n",
              "      <th>Humidity</th>\n",
              "      <th>Temperature</th>\n",
              "    </tr>\n",
              "  </thead>\n",
              "  <tbody>\n",
              "    <tr>\n",
              "      <th>0</th>\n",
              "      <td>ARDEBIL</td>\n",
              "      <td>38.25</td>\n",
              "      <td>48.28</td>\n",
              "      <td>1332.0</td>\n",
              "      <td>-1.62872</td>\n",
              "      <td>0.36714</td>\n",
              "      <td>-1.06393</td>\n",
              "      <td>1.98172</td>\n",
              "      <td>0.89729</td>\n",
              "      <td>-0.42290</td>\n",
              "      <td>0.75378</td>\n",
              "      <td>0.30787</td>\n",
              "      <td>-0.19824</td>\n",
              "      <td>0</td>\n",
              "      <td>1</td>\n",
              "    </tr>\n",
              "    <tr>\n",
              "      <th>1</th>\n",
              "      <td>GERMI</td>\n",
              "      <td>39.05</td>\n",
              "      <td>48.05</td>\n",
              "      <td>749.0</td>\n",
              "      <td>-0.22803</td>\n",
              "      <td>1.12114</td>\n",
              "      <td>-0.84243</td>\n",
              "      <td>1.05242</td>\n",
              "      <td>1.23708</td>\n",
              "      <td>0.03371</td>\n",
              "      <td>0.59009</td>\n",
              "      <td>-1.22184</td>\n",
              "      <td>0.07608</td>\n",
              "      <td>0</td>\n",
              "      <td>1</td>\n",
              "    </tr>\n",
              "    <tr>\n",
              "      <th>2</th>\n",
              "      <td>KHALKHAL</td>\n",
              "      <td>37.63</td>\n",
              "      <td>48.51</td>\n",
              "      <td>1796.0</td>\n",
              "      <td>-1.83758</td>\n",
              "      <td>-0.01092</td>\n",
              "      <td>-0.48719</td>\n",
              "      <td>1.45302</td>\n",
              "      <td>-0.44013</td>\n",
              "      <td>-0.22609</td>\n",
              "      <td>0.31651</td>\n",
              "      <td>0.26486</td>\n",
              "      <td>0.57474</td>\n",
              "      <td>0</td>\n",
              "      <td>1</td>\n",
              "    </tr>\n",
              "    <tr>\n",
              "      <th>3</th>\n",
              "      <td>MESHKINSHAHR</td>\n",
              "      <td>38.38</td>\n",
              "      <td>47.66</td>\n",
              "      <td>1568.5</td>\n",
              "      <td>-1.14692</td>\n",
              "      <td>1.11557</td>\n",
              "      <td>-1.07704</td>\n",
              "      <td>0.97618</td>\n",
              "      <td>-0.25957</td>\n",
              "      <td>-0.83849</td>\n",
              "      <td>-1.23474</td>\n",
              "      <td>-0.50679</td>\n",
              "      <td>2.52775</td>\n",
              "      <td>0</td>\n",
              "      <td>1</td>\n",
              "    </tr>\n",
              "    <tr>\n",
              "      <th>4</th>\n",
              "      <td>PARSABAD MOGHAN</td>\n",
              "      <td>39.65</td>\n",
              "      <td>47.91</td>\n",
              "      <td>31.9</td>\n",
              "      <td>-0.11963</td>\n",
              "      <td>0.72306</td>\n",
              "      <td>-1.23986</td>\n",
              "      <td>1.90412</td>\n",
              "      <td>-0.81661</td>\n",
              "      <td>-0.47116</td>\n",
              "      <td>0.76892</td>\n",
              "      <td>-0.78226</td>\n",
              "      <td>0.02675</td>\n",
              "      <td>0</td>\n",
              "      <td>0</td>\n",
              "    </tr>\n",
              "    <tr>\n",
              "      <th>...</th>\n",
              "      <td>...</td>\n",
              "      <td>...</td>\n",
              "      <td>...</td>\n",
              "      <td>...</td>\n",
              "      <td>...</td>\n",
              "      <td>...</td>\n",
              "      <td>...</td>\n",
              "      <td>...</td>\n",
              "      <td>...</td>\n",
              "      <td>...</td>\n",
              "      <td>...</td>\n",
              "      <td>...</td>\n",
              "      <td>...</td>\n",
              "      <td>...</td>\n",
              "      <td>...</td>\n",
              "    </tr>\n",
              "    <tr>\n",
              "      <th>159</th>\n",
              "      <td>MARVAST</td>\n",
              "      <td>30.50</td>\n",
              "      <td>54.25</td>\n",
              "      <td>1546.6</td>\n",
              "      <td>-0.16982</td>\n",
              "      <td>0.09462</td>\n",
              "      <td>-0.87674</td>\n",
              "      <td>-1.21124</td>\n",
              "      <td>0.78925</td>\n",
              "      <td>-0.97559</td>\n",
              "      <td>-0.45707</td>\n",
              "      <td>-0.67034</td>\n",
              "      <td>-0.59772</td>\n",
              "      <td>1</td>\n",
              "      <td>0</td>\n",
              "    </tr>\n",
              "    <tr>\n",
              "      <th>160</th>\n",
              "      <td>ROBAT POSHTBADAM</td>\n",
              "      <td>33.03</td>\n",
              "      <td>55.55</td>\n",
              "      <td>1188.0</td>\n",
              "      <td>0.27656</td>\n",
              "      <td>0.03614</td>\n",
              "      <td>-0.59142</td>\n",
              "      <td>-1.38047</td>\n",
              "      <td>0.52295</td>\n",
              "      <td>-0.42313</td>\n",
              "      <td>0.27766</td>\n",
              "      <td>-1.25294</td>\n",
              "      <td>-0.40042</td>\n",
              "      <td>1</td>\n",
              "      <td>0</td>\n",
              "    </tr>\n",
              "    <tr>\n",
              "      <th>161</th>\n",
              "      <td>TABASS</td>\n",
              "      <td>33.60</td>\n",
              "      <td>56.91</td>\n",
              "      <td>711.0</td>\n",
              "      <td>0.64910</td>\n",
              "      <td>-0.06574</td>\n",
              "      <td>-1.02410</td>\n",
              "      <td>-0.92230</td>\n",
              "      <td>-1.32101</td>\n",
              "      <td>-0.11425</td>\n",
              "      <td>0.42271</td>\n",
              "      <td>0.67349</td>\n",
              "      <td>-0.19263</td>\n",
              "      <td>1</td>\n",
              "      <td>0</td>\n",
              "    </tr>\n",
              "    <tr>\n",
              "      <th>162</th>\n",
              "      <td>YAZD</td>\n",
              "      <td>31.90</td>\n",
              "      <td>54.28</td>\n",
              "      <td>1237.2</td>\n",
              "      <td>-0.03139</td>\n",
              "      <td>0.35911</td>\n",
              "      <td>-1.17064</td>\n",
              "      <td>-1.14254</td>\n",
              "      <td>-0.19749</td>\n",
              "      <td>-0.76775</td>\n",
              "      <td>0.33526</td>\n",
              "      <td>1.12612</td>\n",
              "      <td>-0.45743</td>\n",
              "      <td>1</td>\n",
              "      <td>0</td>\n",
              "    </tr>\n",
              "    <tr>\n",
              "      <th>163</th>\n",
              "      <td>KHODABANDEH</td>\n",
              "      <td>36.11</td>\n",
              "      <td>48.58</td>\n",
              "      <td>1887.0</td>\n",
              "      <td>-1.14864</td>\n",
              "      <td>-0.07458</td>\n",
              "      <td>0.36791</td>\n",
              "      <td>-0.21880</td>\n",
              "      <td>1.58085</td>\n",
              "      <td>0.43211</td>\n",
              "      <td>0.14729</td>\n",
              "      <td>-0.36155</td>\n",
              "      <td>1.56021</td>\n",
              "      <td>0</td>\n",
              "      <td>1</td>\n",
              "    </tr>\n",
              "  </tbody>\n",
              "</table>\n",
              "<p>164 rows × 15 columns</p>\n",
              "</div>"
            ],
            "text/plain": [
              "              STATION  Longitude  Latitude  ...       F9  Humidity  Temperature\n",
              "0             ARDEBIL      38.25     48.28  ... -0.19824         0            1\n",
              "1               GERMI      39.05     48.05  ...  0.07608         0            1\n",
              "2            KHALKHAL      37.63     48.51  ...  0.57474         0            1\n",
              "3        MESHKINSHAHR      38.38     47.66  ...  2.52775         0            1\n",
              "4     PARSABAD MOGHAN      39.65     47.91  ...  0.02675         0            0\n",
              "..                ...        ...       ...  ...      ...       ...          ...\n",
              "159           MARVAST      30.50     54.25  ... -0.59772         1            0\n",
              "160  ROBAT POSHTBADAM      33.03     55.55  ... -0.40042         1            0\n",
              "161            TABASS      33.60     56.91  ... -0.19263         1            0\n",
              "162              YAZD      31.90     54.28  ... -0.45743         1            0\n",
              "163       KHODABANDEH      36.11     48.58  ...  1.56021         0            1\n",
              "\n",
              "[164 rows x 15 columns]"
            ]
          },
          "metadata": {
            "tags": []
          },
          "execution_count": 17
        }
      ]
    },
    {
      "cell_type": "code",
      "metadata": {
        "id": "s87ae5paDWQb"
      },
      "source": [
        "X1 = df2.iloc[: , 5:13].drop('F8', axis=1)\n",
        "y1 = df2['Humidity']"
      ],
      "execution_count": null,
      "outputs": []
    },
    {
      "cell_type": "code",
      "metadata": {
        "id": "cyDEJvRiaTXH",
        "colab": {
          "base_uri": "https://localhost:8080/"
        },
        "outputId": "2bf1a8e8-f49e-4cbd-86c1-60e1f60b0070"
      },
      "source": [
        "X1"
      ],
      "execution_count": null,
      "outputs": [
        {
          "output_type": "execute_result",
          "data": {
            "text/html": [
              "<div>\n",
              "<style scoped>\n",
              "    .dataframe tbody tr th:only-of-type {\n",
              "        vertical-align: middle;\n",
              "    }\n",
              "\n",
              "    .dataframe tbody tr th {\n",
              "        vertical-align: top;\n",
              "    }\n",
              "\n",
              "    .dataframe thead th {\n",
              "        text-align: right;\n",
              "    }\n",
              "</style>\n",
              "<table border=\"1\" class=\"dataframe\">\n",
              "  <thead>\n",
              "    <tr style=\"text-align: right;\">\n",
              "      <th></th>\n",
              "      <th>F2</th>\n",
              "      <th>F3</th>\n",
              "      <th>F4</th>\n",
              "      <th>F5</th>\n",
              "      <th>F6</th>\n",
              "      <th>F7</th>\n",
              "      <th>F9</th>\n",
              "    </tr>\n",
              "  </thead>\n",
              "  <tbody>\n",
              "    <tr>\n",
              "      <th>0</th>\n",
              "      <td>0.36714</td>\n",
              "      <td>-1.06393</td>\n",
              "      <td>1.98172</td>\n",
              "      <td>0.89729</td>\n",
              "      <td>-0.42290</td>\n",
              "      <td>0.75378</td>\n",
              "      <td>-0.19824</td>\n",
              "    </tr>\n",
              "    <tr>\n",
              "      <th>1</th>\n",
              "      <td>1.12114</td>\n",
              "      <td>-0.84243</td>\n",
              "      <td>1.05242</td>\n",
              "      <td>1.23708</td>\n",
              "      <td>0.03371</td>\n",
              "      <td>0.59009</td>\n",
              "      <td>0.07608</td>\n",
              "    </tr>\n",
              "    <tr>\n",
              "      <th>2</th>\n",
              "      <td>-0.01092</td>\n",
              "      <td>-0.48719</td>\n",
              "      <td>1.45302</td>\n",
              "      <td>-0.44013</td>\n",
              "      <td>-0.22609</td>\n",
              "      <td>0.31651</td>\n",
              "      <td>0.57474</td>\n",
              "    </tr>\n",
              "    <tr>\n",
              "      <th>3</th>\n",
              "      <td>1.11557</td>\n",
              "      <td>-1.07704</td>\n",
              "      <td>0.97618</td>\n",
              "      <td>-0.25957</td>\n",
              "      <td>-0.83849</td>\n",
              "      <td>-1.23474</td>\n",
              "      <td>2.52775</td>\n",
              "    </tr>\n",
              "    <tr>\n",
              "      <th>4</th>\n",
              "      <td>0.72306</td>\n",
              "      <td>-1.23986</td>\n",
              "      <td>1.90412</td>\n",
              "      <td>-0.81661</td>\n",
              "      <td>-0.47116</td>\n",
              "      <td>0.76892</td>\n",
              "      <td>0.02675</td>\n",
              "    </tr>\n",
              "    <tr>\n",
              "      <th>...</th>\n",
              "      <td>...</td>\n",
              "      <td>...</td>\n",
              "      <td>...</td>\n",
              "      <td>...</td>\n",
              "      <td>...</td>\n",
              "      <td>...</td>\n",
              "      <td>...</td>\n",
              "    </tr>\n",
              "    <tr>\n",
              "      <th>159</th>\n",
              "      <td>0.09462</td>\n",
              "      <td>-0.87674</td>\n",
              "      <td>-1.21124</td>\n",
              "      <td>0.78925</td>\n",
              "      <td>-0.97559</td>\n",
              "      <td>-0.45707</td>\n",
              "      <td>-0.59772</td>\n",
              "    </tr>\n",
              "    <tr>\n",
              "      <th>160</th>\n",
              "      <td>0.03614</td>\n",
              "      <td>-0.59142</td>\n",
              "      <td>-1.38047</td>\n",
              "      <td>0.52295</td>\n",
              "      <td>-0.42313</td>\n",
              "      <td>0.27766</td>\n",
              "      <td>-0.40042</td>\n",
              "    </tr>\n",
              "    <tr>\n",
              "      <th>161</th>\n",
              "      <td>-0.06574</td>\n",
              "      <td>-1.02410</td>\n",
              "      <td>-0.92230</td>\n",
              "      <td>-1.32101</td>\n",
              "      <td>-0.11425</td>\n",
              "      <td>0.42271</td>\n",
              "      <td>-0.19263</td>\n",
              "    </tr>\n",
              "    <tr>\n",
              "      <th>162</th>\n",
              "      <td>0.35911</td>\n",
              "      <td>-1.17064</td>\n",
              "      <td>-1.14254</td>\n",
              "      <td>-0.19749</td>\n",
              "      <td>-0.76775</td>\n",
              "      <td>0.33526</td>\n",
              "      <td>-0.45743</td>\n",
              "    </tr>\n",
              "    <tr>\n",
              "      <th>163</th>\n",
              "      <td>-0.07458</td>\n",
              "      <td>0.36791</td>\n",
              "      <td>-0.21880</td>\n",
              "      <td>1.58085</td>\n",
              "      <td>0.43211</td>\n",
              "      <td>0.14729</td>\n",
              "      <td>1.56021</td>\n",
              "    </tr>\n",
              "  </tbody>\n",
              "</table>\n",
              "<p>164 rows × 7 columns</p>\n",
              "</div>"
            ],
            "text/plain": [
              "          F2       F3       F4       F5       F6       F7       F9\n",
              "0    0.36714 -1.06393  1.98172  0.89729 -0.42290  0.75378 -0.19824\n",
              "1    1.12114 -0.84243  1.05242  1.23708  0.03371  0.59009  0.07608\n",
              "2   -0.01092 -0.48719  1.45302 -0.44013 -0.22609  0.31651  0.57474\n",
              "3    1.11557 -1.07704  0.97618 -0.25957 -0.83849 -1.23474  2.52775\n",
              "4    0.72306 -1.23986  1.90412 -0.81661 -0.47116  0.76892  0.02675\n",
              "..       ...      ...      ...      ...      ...      ...      ...\n",
              "159  0.09462 -0.87674 -1.21124  0.78925 -0.97559 -0.45707 -0.59772\n",
              "160  0.03614 -0.59142 -1.38047  0.52295 -0.42313  0.27766 -0.40042\n",
              "161 -0.06574 -1.02410 -0.92230 -1.32101 -0.11425  0.42271 -0.19263\n",
              "162  0.35911 -1.17064 -1.14254 -0.19749 -0.76775  0.33526 -0.45743\n",
              "163 -0.07458  0.36791 -0.21880  1.58085  0.43211  0.14729  1.56021\n",
              "\n",
              "[164 rows x 7 columns]"
            ]
          },
          "metadata": {
            "tags": []
          },
          "execution_count": 19
        }
      ]
    },
    {
      "cell_type": "code",
      "metadata": {
        "id": "Vbw2BDVj-a_O"
      },
      "source": [
        "logit_mod = sm.Logit(y1, X1)"
      ],
      "execution_count": null,
      "outputs": []
    },
    {
      "cell_type": "code",
      "metadata": {
        "id": "PDtsVWSr-uEc",
        "colab": {
          "base_uri": "https://localhost:8080/"
        },
        "outputId": "f8b8ced8-1833-40a4-d8ce-cf47d9017c01"
      },
      "source": [
        "logit_res = logit_mod.fit()"
      ],
      "execution_count": null,
      "outputs": [
        {
          "output_type": "stream",
          "text": [
            "Optimization terminated successfully.\n",
            "         Current function value: 0.254764\n",
            "         Iterations 9\n"
          ],
          "name": "stdout"
        }
      ]
    },
    {
      "cell_type": "code",
      "metadata": {
        "id": "8IU7JKFR-zZz",
        "colab": {
          "base_uri": "https://localhost:8080/"
        },
        "outputId": "8d798565-b0c5-4525-fd01-94b8b163d216"
      },
      "source": [
        "print(logit_res.summary())"
      ],
      "execution_count": null,
      "outputs": [
        {
          "output_type": "stream",
          "text": [
            "                           Logit Regression Results                           \n",
            "==============================================================================\n",
            "Dep. Variable:               Humidity   No. Observations:                  164\n",
            "Model:                          Logit   Df Residuals:                      157\n",
            "Method:                           MLE   Df Model:                            6\n",
            "Date:                Sun, 26 Jul 2020   Pseudo R-squ.:                  0.6315\n",
            "Time:                        17:43:15   Log-Likelihood:                -41.781\n",
            "converged:                       True   LL-Null:                       -113.37\n",
            "Covariance Type:            nonrobust   LLR p-value:                 2.137e-28\n",
            "==============================================================================\n",
            "                 coef    std err          z      P>|z|      [0.025      0.975]\n",
            "------------------------------------------------------------------------------\n",
            "F2            -2.9125      0.816     -3.568      0.000      -4.512      -1.313\n",
            "F3            -4.9740      0.999     -4.981      0.000      -6.931      -3.017\n",
            "F4            -2.2505      0.542     -4.154      0.000      -3.312      -1.189\n",
            "F5             1.4203      0.351      4.043      0.000       0.732       2.109\n",
            "F6            -1.0910      0.271     -4.029      0.000      -1.622      -0.560\n",
            "F7            -0.6815      0.302     -2.255      0.024      -1.274      -0.089\n",
            "F9            -0.7674      0.335     -2.291      0.022      -1.424      -0.111\n",
            "==============================================================================\n"
          ],
          "name": "stdout"
        }
      ]
    },
    {
      "cell_type": "markdown",
      "metadata": {
        "id": "VvU-nVziUY-N"
      },
      "source": [
        "#FA Logistic\n"
      ]
    },
    {
      "cell_type": "code",
      "metadata": {
        "id": "Hmv-i1AvUe-P"
      },
      "source": [
        "X_fa_train, X_fa_test, y_fa_train, y_fa_test = train_test_split(X1, y1, test_size=0.3, random_state=101)"
      ],
      "execution_count": null,
      "outputs": []
    },
    {
      "cell_type": "code",
      "metadata": {
        "id": "-b5uHNqDVmsk"
      },
      "source": [
        "logmodel_fa = LogisticRegression()"
      ],
      "execution_count": null,
      "outputs": []
    },
    {
      "cell_type": "code",
      "metadata": {
        "id": "4GRAdPGCUxtl",
        "colab": {
          "base_uri": "https://localhost:8080/"
        },
        "outputId": "11824944-1029-4d0f-9fd1-d3746ed3c52a"
      },
      "source": [
        "logmodel_fa.fit(X_fa_train,y_fa_train)"
      ],
      "execution_count": null,
      "outputs": [
        {
          "output_type": "execute_result",
          "data": {
            "text/plain": [
              "LogisticRegression(C=1.0, class_weight=None, dual=False, fit_intercept=True,\n",
              "                   intercept_scaling=1, l1_ratio=None, max_iter=100,\n",
              "                   multi_class='auto', n_jobs=None, penalty='l2',\n",
              "                   random_state=None, solver='lbfgs', tol=0.0001, verbose=0,\n",
              "                   warm_start=False)"
            ]
          },
          "metadata": {
            "tags": []
          },
          "execution_count": 25
        }
      ]
    },
    {
      "cell_type": "code",
      "metadata": {
        "id": "FM2Kz5U5U-Tb"
      },
      "source": [
        "predictions_fa = logmodel_fa.predict(X_fa_test)"
      ],
      "execution_count": null,
      "outputs": []
    },
    {
      "cell_type": "code",
      "metadata": {
        "id": "lQJFCXIOVCR2",
        "colab": {
          "base_uri": "https://localhost:8080/"
        },
        "outputId": "4a01ff09-f704-4083-fabb-6700fd7e7bcd"
      },
      "source": [
        "print(classification_report(y_fa_test, predictions_fa))"
      ],
      "execution_count": null,
      "outputs": [
        {
          "output_type": "stream",
          "text": [
            "              precision    recall  f1-score   support\n",
            "\n",
            "           0       0.96      0.92      0.94        26\n",
            "           1       0.92      0.96      0.94        24\n",
            "\n",
            "    accuracy                           0.94        50\n",
            "   macro avg       0.94      0.94      0.94        50\n",
            "weighted avg       0.94      0.94      0.94        50\n",
            "\n"
          ],
          "name": "stdout"
        }
      ]
    },
    {
      "cell_type": "code",
      "metadata": {
        "id": "qwLKMsCVVExi",
        "colab": {
          "base_uri": "https://localhost:8080/"
        },
        "outputId": "e027331c-8e85-4ffb-9804-45d7f3a4fe49"
      },
      "source": [
        "confusion_matrix(y_fa_test, predictions_fa)"
      ],
      "execution_count": null,
      "outputs": [
        {
          "output_type": "execute_result",
          "data": {
            "text/plain": [
              "array([[24,  2],\n",
              "       [ 1, 23]])"
            ]
          },
          "metadata": {
            "tags": []
          },
          "execution_count": 28
        }
      ]
    },
    {
      "cell_type": "code",
      "metadata": {
        "id": "egrOviqHWo_a"
      },
      "source": [
        "proba = logmodel_fa.predict_proba(X_fa_test)"
      ],
      "execution_count": null,
      "outputs": []
    },
    {
      "cell_type": "code",
      "metadata": {
        "id": "mvbFSpV0C0Gr"
      },
      "source": [
        "proba = proba[:, 1]"
      ],
      "execution_count": null,
      "outputs": []
    },
    {
      "cell_type": "code",
      "metadata": {
        "id": "R1xcllevC3vO",
        "colab": {
          "base_uri": "https://localhost:8080/"
        },
        "outputId": "79770252-0a24-43fc-ef08-9444eb2baa01"
      },
      "source": [
        "auc_fa = roc_auc_score(y_test, proba)\n",
        "print('AUC: %.2f' % auc_fa)"
      ],
      "execution_count": null,
      "outputs": [
        {
          "output_type": "stream",
          "text": [
            "AUC: 1.00\n"
          ],
          "name": "stdout"
        }
      ]
    },
    {
      "cell_type": "code",
      "metadata": {
        "id": "iwUvkOtcC6o9"
      },
      "source": [
        "fpr, tpr, thresholds = roc_curve(y_test, proba)"
      ],
      "execution_count": null,
      "outputs": []
    },
    {
      "cell_type": "code",
      "metadata": {
        "id": "51mWVpZfC6uA",
        "colab": {
          "base_uri": "https://localhost:8080/"
        },
        "outputId": "90450c8d-753d-44d6-8b45-74ba38cb5aeb"
      },
      "source": [
        "plot_roc_curve(fpr, tpr)"
      ],
      "execution_count": null,
      "outputs": [
        {
          "output_type": "display_data",
          "data": {
            "image/png": "[encoded data removed]",
            "text/plain": [
              "<Figure size 432x288 with 1 Axes>"
            ]
          },
          "metadata": {
            "tags": [],
            "needs_background": "light"
          }
        }
      ]
    },
    {
      "cell_type": "markdown",
      "metadata": {
        "id": "g4p7lRrd0XSw"
      },
      "source": [
        "#KNN"
      ]
    },
    {
      "cell_type": "code",
      "metadata": {
        "id": "d-XCy9cm1--J",
        "colab": {
          "base_uri": "https://localhost:8080/",
          "height": 417
        },
        "outputId": "e1337d8d-a6c8-4946-bd40-41cd98f4de0a"
      },
      "source": [
        "df3 = pd.read_csv('Factor Analysis_New.csv')\n",
        "df3"
      ],
      "execution_count": null,
      "outputs": [
        {
          "output_type": "execute_result",
          "data": {
            "text/html": [
              "<div>\n",
              "<style scoped>\n",
              "    .dataframe tbody tr th:only-of-type {\n",
              "        vertical-align: middle;\n",
              "    }\n",
              "\n",
              "    .dataframe tbody tr th {\n",
              "        vertical-align: top;\n",
              "    }\n",
              "\n",
              "    .dataframe thead th {\n",
              "        text-align: right;\n",
              "    }\n",
              "</style>\n",
              "<table border=\"1\" class=\"dataframe\">\n",
              "  <thead>\n",
              "    <tr style=\"text-align: right;\">\n",
              "      <th></th>\n",
              "      <th>STATION</th>\n",
              "      <th>Longitude</th>\n",
              "      <th>Latitude</th>\n",
              "      <th>Elevation</th>\n",
              "      <th>F1</th>\n",
              "      <th>F2</th>\n",
              "      <th>F3</th>\n",
              "      <th>F4</th>\n",
              "      <th>F5</th>\n",
              "      <th>F6</th>\n",
              "      <th>F7</th>\n",
              "      <th>F8</th>\n",
              "      <th>F9</th>\n",
              "      <th>Rain</th>\n",
              "    </tr>\n",
              "  </thead>\n",
              "  <tbody>\n",
              "    <tr>\n",
              "      <th>0</th>\n",
              "      <td>ARDEBIL</td>\n",
              "      <td>38.25</td>\n",
              "      <td>48.28</td>\n",
              "      <td>1332.0</td>\n",
              "      <td>-1.62872</td>\n",
              "      <td>0.36714</td>\n",
              "      <td>-1.06393</td>\n",
              "      <td>1.98172</td>\n",
              "      <td>0.89729</td>\n",
              "      <td>-0.42290</td>\n",
              "      <td>0.75378</td>\n",
              "      <td>0.30787</td>\n",
              "      <td>-0.19824</td>\n",
              "      <td>Semi Humid</td>\n",
              "    </tr>\n",
              "    <tr>\n",
              "      <th>1</th>\n",
              "      <td>GERMI</td>\n",
              "      <td>39.05</td>\n",
              "      <td>48.05</td>\n",
              "      <td>749.0</td>\n",
              "      <td>-0.22803</td>\n",
              "      <td>1.12114</td>\n",
              "      <td>-0.84243</td>\n",
              "      <td>1.05242</td>\n",
              "      <td>1.23708</td>\n",
              "      <td>0.03371</td>\n",
              "      <td>0.59009</td>\n",
              "      <td>-1.22184</td>\n",
              "      <td>0.07608</td>\n",
              "      <td>Semi Humid</td>\n",
              "    </tr>\n",
              "    <tr>\n",
              "      <th>2</th>\n",
              "      <td>KHALKHAL</td>\n",
              "      <td>37.63</td>\n",
              "      <td>48.51</td>\n",
              "      <td>1796.0</td>\n",
              "      <td>-1.83758</td>\n",
              "      <td>-0.01092</td>\n",
              "      <td>-0.48719</td>\n",
              "      <td>1.45302</td>\n",
              "      <td>-0.44013</td>\n",
              "      <td>-0.22609</td>\n",
              "      <td>0.31651</td>\n",
              "      <td>0.26486</td>\n",
              "      <td>0.57474</td>\n",
              "      <td>Semi Humid</td>\n",
              "    </tr>\n",
              "    <tr>\n",
              "      <th>3</th>\n",
              "      <td>MESHKINSHAHR</td>\n",
              "      <td>38.38</td>\n",
              "      <td>47.66</td>\n",
              "      <td>1568.5</td>\n",
              "      <td>-1.14692</td>\n",
              "      <td>1.11557</td>\n",
              "      <td>-1.07704</td>\n",
              "      <td>0.97618</td>\n",
              "      <td>-0.25957</td>\n",
              "      <td>-0.83849</td>\n",
              "      <td>-1.23474</td>\n",
              "      <td>-0.50679</td>\n",
              "      <td>2.52775</td>\n",
              "      <td>Semi Humid</td>\n",
              "    </tr>\n",
              "    <tr>\n",
              "      <th>4</th>\n",
              "      <td>PARSABAD MOGHAN</td>\n",
              "      <td>39.65</td>\n",
              "      <td>47.91</td>\n",
              "      <td>31.9</td>\n",
              "      <td>-0.11963</td>\n",
              "      <td>0.72306</td>\n",
              "      <td>-1.23986</td>\n",
              "      <td>1.90412</td>\n",
              "      <td>-0.81661</td>\n",
              "      <td>-0.47116</td>\n",
              "      <td>0.76892</td>\n",
              "      <td>-0.78226</td>\n",
              "      <td>0.02675</td>\n",
              "      <td>Semi Humid</td>\n",
              "    </tr>\n",
              "    <tr>\n",
              "      <th>...</th>\n",
              "      <td>...</td>\n",
              "      <td>...</td>\n",
              "      <td>...</td>\n",
              "      <td>...</td>\n",
              "      <td>...</td>\n",
              "      <td>...</td>\n",
              "      <td>...</td>\n",
              "      <td>...</td>\n",
              "      <td>...</td>\n",
              "      <td>...</td>\n",
              "      <td>...</td>\n",
              "      <td>...</td>\n",
              "      <td>...</td>\n",
              "      <td>...</td>\n",
              "    </tr>\n",
              "    <tr>\n",
              "      <th>159</th>\n",
              "      <td>MARVAST</td>\n",
              "      <td>30.50</td>\n",
              "      <td>54.25</td>\n",
              "      <td>1546.6</td>\n",
              "      <td>-0.16982</td>\n",
              "      <td>0.09462</td>\n",
              "      <td>-0.87674</td>\n",
              "      <td>-1.21124</td>\n",
              "      <td>0.78925</td>\n",
              "      <td>-0.97559</td>\n",
              "      <td>-0.45707</td>\n",
              "      <td>-0.67034</td>\n",
              "      <td>-0.59772</td>\n",
              "      <td>Dry</td>\n",
              "    </tr>\n",
              "    <tr>\n",
              "      <th>160</th>\n",
              "      <td>ROBAT POSHTBADAM</td>\n",
              "      <td>33.03</td>\n",
              "      <td>55.55</td>\n",
              "      <td>1188.0</td>\n",
              "      <td>0.27656</td>\n",
              "      <td>0.03614</td>\n",
              "      <td>-0.59142</td>\n",
              "      <td>-1.38047</td>\n",
              "      <td>0.52295</td>\n",
              "      <td>-0.42313</td>\n",
              "      <td>0.27766</td>\n",
              "      <td>-1.25294</td>\n",
              "      <td>-0.40042</td>\n",
              "      <td>Dry</td>\n",
              "    </tr>\n",
              "    <tr>\n",
              "      <th>161</th>\n",
              "      <td>TABASS</td>\n",
              "      <td>33.60</td>\n",
              "      <td>56.91</td>\n",
              "      <td>711.0</td>\n",
              "      <td>0.64910</td>\n",
              "      <td>-0.06574</td>\n",
              "      <td>-1.02410</td>\n",
              "      <td>-0.92230</td>\n",
              "      <td>-1.32101</td>\n",
              "      <td>-0.11425</td>\n",
              "      <td>0.42271</td>\n",
              "      <td>0.67349</td>\n",
              "      <td>-0.19263</td>\n",
              "      <td>Dry</td>\n",
              "    </tr>\n",
              "    <tr>\n",
              "      <th>162</th>\n",
              "      <td>YAZD</td>\n",
              "      <td>31.90</td>\n",
              "      <td>54.28</td>\n",
              "      <td>1237.2</td>\n",
              "      <td>-0.03139</td>\n",
              "      <td>0.35911</td>\n",
              "      <td>-1.17064</td>\n",
              "      <td>-1.14254</td>\n",
              "      <td>-0.19749</td>\n",
              "      <td>-0.76775</td>\n",
              "      <td>0.33526</td>\n",
              "      <td>1.12612</td>\n",
              "      <td>-0.45743</td>\n",
              "      <td>Dry</td>\n",
              "    </tr>\n",
              "    <tr>\n",
              "      <th>163</th>\n",
              "      <td>KHODABANDEH</td>\n",
              "      <td>36.11</td>\n",
              "      <td>48.58</td>\n",
              "      <td>1887.0</td>\n",
              "      <td>-1.14864</td>\n",
              "      <td>-0.07458</td>\n",
              "      <td>0.36791</td>\n",
              "      <td>-0.21880</td>\n",
              "      <td>1.58085</td>\n",
              "      <td>0.43211</td>\n",
              "      <td>0.14729</td>\n",
              "      <td>-0.36155</td>\n",
              "      <td>1.56021</td>\n",
              "      <td>Semi Humid</td>\n",
              "    </tr>\n",
              "  </tbody>\n",
              "</table>\n",
              "<p>164 rows × 14 columns</p>\n",
              "</div>"
            ],
            "text/plain": [
              "              STATION  Longitude  Latitude  ...       F8       F9        Rain\n",
              "0             ARDEBIL      38.25     48.28  ...  0.30787 -0.19824  Semi Humid\n",
              "1               GERMI      39.05     48.05  ... -1.22184  0.07608  Semi Humid\n",
              "2            KHALKHAL      37.63     48.51  ...  0.26486  0.57474  Semi Humid\n",
              "3        MESHKINSHAHR      38.38     47.66  ... -0.50679  2.52775  Semi Humid\n",
              "4     PARSABAD MOGHAN      39.65     47.91  ... -0.78226  0.02675  Semi Humid\n",
              "..                ...        ...       ...  ...      ...      ...         ...\n",
              "159           MARVAST      30.50     54.25  ... -0.67034 -0.59772         Dry\n",
              "160  ROBAT POSHTBADAM      33.03     55.55  ... -1.25294 -0.40042         Dry\n",
              "161            TABASS      33.60     56.91  ...  0.67349 -0.19263         Dry\n",
              "162              YAZD      31.90     54.28  ...  1.12612 -0.45743         Dry\n",
              "163       KHODABANDEH      36.11     48.58  ... -0.36155  1.56021  Semi Humid\n",
              "\n",
              "[164 rows x 14 columns]"
            ]
          },
          "metadata": {
            "tags": []
          },
          "execution_count": 34
        }
      ]
    },
    {
      "cell_type": "code",
      "metadata": {
        "id": "VJG71jQB1Uz9"
      },
      "source": [
        "X2 = df3.iloc[: , 5:13].drop('F8', axis=1)\n",
        "y2 = df3['Rain']"
      ],
      "execution_count": null,
      "outputs": []
    },
    {
      "cell_type": "code",
      "metadata": {
        "id": "epUTRDYGllPx",
        "colab": {
          "base_uri": "https://localhost:8080/",
          "height": 417
        },
        "outputId": "caa9e083-4053-43ea-ffeb-5e805c20599b"
      },
      "source": [
        "X2"
      ],
      "execution_count": null,
      "outputs": [
        {
          "output_type": "execute_result",
          "data": {
            "text/html": [
              "<div>\n",
              "<style scoped>\n",
              "    .dataframe tbody tr th:only-of-type {\n",
              "        vertical-align: middle;\n",
              "    }\n",
              "\n",
              "    .dataframe tbody tr th {\n",
              "        vertical-align: top;\n",
              "    }\n",
              "\n",
              "    .dataframe thead th {\n",
              "        text-align: right;\n",
              "    }\n",
              "</style>\n",
              "<table border=\"1\" class=\"dataframe\">\n",
              "  <thead>\n",
              "    <tr style=\"text-align: right;\">\n",
              "      <th></th>\n",
              "      <th>F2</th>\n",
              "      <th>F3</th>\n",
              "      <th>F4</th>\n",
              "      <th>F5</th>\n",
              "      <th>F6</th>\n",
              "      <th>F7</th>\n",
              "      <th>F9</th>\n",
              "    </tr>\n",
              "  </thead>\n",
              "  <tbody>\n",
              "    <tr>\n",
              "      <th>0</th>\n",
              "      <td>0.36714</td>\n",
              "      <td>-1.06393</td>\n",
              "      <td>1.98172</td>\n",
              "      <td>0.89729</td>\n",
              "      <td>-0.42290</td>\n",
              "      <td>0.75378</td>\n",
              "      <td>-0.19824</td>\n",
              "    </tr>\n",
              "    <tr>\n",
              "      <th>1</th>\n",
              "      <td>1.12114</td>\n",
              "      <td>-0.84243</td>\n",
              "      <td>1.05242</td>\n",
              "      <td>1.23708</td>\n",
              "      <td>0.03371</td>\n",
              "      <td>0.59009</td>\n",
              "      <td>0.07608</td>\n",
              "    </tr>\n",
              "    <tr>\n",
              "      <th>2</th>\n",
              "      <td>-0.01092</td>\n",
              "      <td>-0.48719</td>\n",
              "      <td>1.45302</td>\n",
              "      <td>-0.44013</td>\n",
              "      <td>-0.22609</td>\n",
              "      <td>0.31651</td>\n",
              "      <td>0.57474</td>\n",
              "    </tr>\n",
              "    <tr>\n",
              "      <th>3</th>\n",
              "      <td>1.11557</td>\n",
              "      <td>-1.07704</td>\n",
              "      <td>0.97618</td>\n",
              "      <td>-0.25957</td>\n",
              "      <td>-0.83849</td>\n",
              "      <td>-1.23474</td>\n",
              "      <td>2.52775</td>\n",
              "    </tr>\n",
              "    <tr>\n",
              "      <th>4</th>\n",
              "      <td>0.72306</td>\n",
              "      <td>-1.23986</td>\n",
              "      <td>1.90412</td>\n",
              "      <td>-0.81661</td>\n",
              "      <td>-0.47116</td>\n",
              "      <td>0.76892</td>\n",
              "      <td>0.02675</td>\n",
              "    </tr>\n",
              "    <tr>\n",
              "      <th>...</th>\n",
              "      <td>...</td>\n",
              "      <td>...</td>\n",
              "      <td>...</td>\n",
              "      <td>...</td>\n",
              "      <td>...</td>\n",
              "      <td>...</td>\n",
              "      <td>...</td>\n",
              "    </tr>\n",
              "    <tr>\n",
              "      <th>159</th>\n",
              "      <td>0.09462</td>\n",
              "      <td>-0.87674</td>\n",
              "      <td>-1.21124</td>\n",
              "      <td>0.78925</td>\n",
              "      <td>-0.97559</td>\n",
              "      <td>-0.45707</td>\n",
              "      <td>-0.59772</td>\n",
              "    </tr>\n",
              "    <tr>\n",
              "      <th>160</th>\n",
              "      <td>0.03614</td>\n",
              "      <td>-0.59142</td>\n",
              "      <td>-1.38047</td>\n",
              "      <td>0.52295</td>\n",
              "      <td>-0.42313</td>\n",
              "      <td>0.27766</td>\n",
              "      <td>-0.40042</td>\n",
              "    </tr>\n",
              "    <tr>\n",
              "      <th>161</th>\n",
              "      <td>-0.06574</td>\n",
              "      <td>-1.02410</td>\n",
              "      <td>-0.92230</td>\n",
              "      <td>-1.32101</td>\n",
              "      <td>-0.11425</td>\n",
              "      <td>0.42271</td>\n",
              "      <td>-0.19263</td>\n",
              "    </tr>\n",
              "    <tr>\n",
              "      <th>162</th>\n",
              "      <td>0.35911</td>\n",
              "      <td>-1.17064</td>\n",
              "      <td>-1.14254</td>\n",
              "      <td>-0.19749</td>\n",
              "      <td>-0.76775</td>\n",
              "      <td>0.33526</td>\n",
              "      <td>-0.45743</td>\n",
              "    </tr>\n",
              "    <tr>\n",
              "      <th>163</th>\n",
              "      <td>-0.07458</td>\n",
              "      <td>0.36791</td>\n",
              "      <td>-0.21880</td>\n",
              "      <td>1.58085</td>\n",
              "      <td>0.43211</td>\n",
              "      <td>0.14729</td>\n",
              "      <td>1.56021</td>\n",
              "    </tr>\n",
              "  </tbody>\n",
              "</table>\n",
              "<p>164 rows × 7 columns</p>\n",
              "</div>"
            ],
            "text/plain": [
              "          F2       F3       F4       F5       F6       F7       F9\n",
              "0    0.36714 -1.06393  1.98172  0.89729 -0.42290  0.75378 -0.19824\n",
              "1    1.12114 -0.84243  1.05242  1.23708  0.03371  0.59009  0.07608\n",
              "2   -0.01092 -0.48719  1.45302 -0.44013 -0.22609  0.31651  0.57474\n",
              "3    1.11557 -1.07704  0.97618 -0.25957 -0.83849 -1.23474  2.52775\n",
              "4    0.72306 -1.23986  1.90412 -0.81661 -0.47116  0.76892  0.02675\n",
              "..       ...      ...      ...      ...      ...      ...      ...\n",
              "159  0.09462 -0.87674 -1.21124  0.78925 -0.97559 -0.45707 -0.59772\n",
              "160  0.03614 -0.59142 -1.38047  0.52295 -0.42313  0.27766 -0.40042\n",
              "161 -0.06574 -1.02410 -0.92230 -1.32101 -0.11425  0.42271 -0.19263\n",
              "162  0.35911 -1.17064 -1.14254 -0.19749 -0.76775  0.33526 -0.45743\n",
              "163 -0.07458  0.36791 -0.21880  1.58085  0.43211  0.14729  1.56021\n",
              "\n",
              "[164 rows x 7 columns]"
            ]
          },
          "metadata": {
            "tags": []
          },
          "execution_count": 36
        }
      ]
    },
    {
      "cell_type": "code",
      "metadata": {
        "id": "bG3zKRvN0d9s"
      },
      "source": [
        "X2_train, X2_test, y2_train, y2_test = train_test_split(X2, y2, test_size=0.3, random_state=101)"
      ],
      "execution_count": null,
      "outputs": []
    },
    {
      "cell_type": "code",
      "metadata": {
        "id": "rfuJMPIf1j-S"
      },
      "source": [
        "knn = KNeighborsClassifier(n_neighbors=4)"
      ],
      "execution_count": null,
      "outputs": []
    },
    {
      "cell_type": "code",
      "metadata": {
        "id": "ucMFuLn-1s99",
        "colab": {
          "base_uri": "https://localhost:8080/",
          "height": 70
        },
        "outputId": "dad4b785-2d49-44ed-d2a1-1f35e871bffd"
      },
      "source": [
        "knn.fit(X_train,y_train)"
      ],
      "execution_count": null,
      "outputs": [
        {
          "output_type": "execute_result",
          "data": {
            "text/plain": [
              "KNeighborsClassifier(algorithm='auto', leaf_size=30, metric='minkowski',\n",
              "                     metric_params=None, n_jobs=None, n_neighbors=4, p=2,\n",
              "                     weights='uniform')"
            ]
          },
          "metadata": {
            "tags": []
          },
          "execution_count": 39
        }
      ]
    },
    {
      "cell_type": "code",
      "metadata": {
        "id": "xSPju_ey19Iw"
      },
      "source": [
        "pred = knn.predict(X_test)"
      ],
      "execution_count": null,
      "outputs": []
    },
    {
      "cell_type": "code",
      "metadata": {
        "id": "0G5zisB93Em1",
        "colab": {
          "base_uri": "https://localhost:8080/",
          "height": 211
        },
        "outputId": "af5c1797-ef6f-4010-dc74-7025f074da22"
      },
      "source": [
        "print(classification_report(y_test, pred))\n",
        "print(confusion_matrix(y_test, predictions))"
      ],
      "execution_count": null,
      "outputs": [
        {
          "output_type": "stream",
          "text": [
            "              precision    recall  f1-score   support\n",
            "\n",
            "           0       0.96      0.88      0.92        26\n",
            "           1       0.88      0.96      0.92        24\n",
            "\n",
            "    accuracy                           0.92        50\n",
            "   macro avg       0.92      0.92      0.92        50\n",
            "weighted avg       0.92      0.92      0.92        50\n",
            "\n",
            "[[24  2]\n",
            " [ 1 23]]\n"
          ],
          "name": "stdout"
        }
      ]
    },
    {
      "cell_type": "code",
      "metadata": {
        "id": "Duz6-5Z5Zlk8",
        "colab": {
          "base_uri": "https://localhost:8080/",
          "height": 295
        },
        "outputId": "7650a41c-8a19-41df-bab3-1b858d9c8486"
      },
      "source": [
        "skplt.metrics.plot_confusion_matrix(y_test, predictions, normalize=False)\n",
        "plt.show()"
      ],
      "execution_count": null,
      "outputs": [
        {
          "output_type": "display_data",
          "data": {
            "image/png": "[encoded data removed]",
            "text/plain": [
              "<Figure size 432x288 with 2 Axes>"
            ]
          },
          "metadata": {
            "tags": [],
            "needs_background": "light"
          }
        }
      ]
    },
    {
      "cell_type": "code",
      "metadata": {
        "id": "0PlEnOIwJ4cD",
        "colab": {
          "base_uri": "https://localhost:8080/",
          "height": 295
        },
        "outputId": "ab0d4e85-1694-4afa-c648-d77b236c3ea5"
      },
      "source": [
        "skplt.metrics.plot_confusion_matrix(y_test, predictions, normalize=True)\n",
        "plt.show()"
      ],
      "execution_count": null,
      "outputs": [
        {
          "output_type": "display_data",
          "data": {
            "image/png": "[encoded data removed]",
            "text/plain": [
              "<Figure size 432x288 with 2 Axes>"
            ]
          },
          "metadata": {
            "tags": [],
            "needs_background": "light"
          }
        }
      ]
    },
    {
      "cell_type": "code",
      "metadata": {
        "id": "IXHLz8nRejB8"
      },
      "source": [
        "error = []\n",
        "for i in range(1, 40):\n",
        "    knn = KNeighborsClassifier(n_neighbors=i)\n",
        "    knn.fit(X_train, y_train)\n",
        "    pred_i = knn.predict(X_test)\n",
        "    error.append(np.mean(pred_i != y_test))"
      ],
      "execution_count": null,
      "outputs": []
    },
    {
      "cell_type": "code",
      "metadata": {
        "id": "Zl-r_I_qerPS",
        "colab": {
          "base_uri": "https://localhost:8080/",
          "height": 404
        },
        "outputId": "e4bc7477-3978-4fbc-bd4a-17d497383b3b"
      },
      "source": [
        "plt.figure(figsize=(12, 6))\n",
        "plt.plot(range(1, 40), error, color='red', linestyle='dashed', marker='o',\n",
        "         markerfacecolor='blue', markersize=10)\n",
        "plt.title('Error Rate vs K Value')\n",
        "plt.xlabel('K Value')\n",
        "plt.ylabel('Mean Error')\n",
        "plt.savefig('K.png', dpi=520, format='png', bbox_inches='tight')\n",
        "plt.show()"
      ],
      "execution_count": null,
      "outputs": [
        {
          "output_type": "display_data",
          "data": {
            "image/png": "[encoded data removed]",
            "text/plain": [
              "<Figure size 864x432 with 1 Axes>"
            ]
          },
          "metadata": {
            "tags": [],
            "needs_background": "light"
          }
        }
      ]
    },
    {
      "cell_type": "markdown",
      "metadata": {
        "id": "P10n_4N2a32J"
      },
      "source": [
        "#LDA"
      ]
    },
    {
      "cell_type": "code",
      "metadata": {
        "id": "sp_MknSKa9X9"
      },
      "source": [
        "lda = LinearDiscriminantAnalysis()"
      ],
      "execution_count": null,
      "outputs": []
    },
    {
      "cell_type": "code",
      "metadata": {
        "id": "U7fuHLTavigC",
        "colab": {
          "base_uri": "https://localhost:8080/"
        },
        "outputId": "ce42a94c-20c4-44a1-f196-44935ef8e5aa"
      },
      "source": [
        "lda.fit(X_train, y_train)"
      ],
      "execution_count": null,
      "outputs": [
        {
          "output_type": "execute_result",
          "data": {
            "text/plain": [
              "LinearDiscriminantAnalysis(n_components=None, priors=None, shrinkage=None,\n",
              "                           solver='svd', store_covariance=False, tol=0.0001)"
            ]
          },
          "metadata": {
            "tags": []
          },
          "execution_count": 47
        }
      ]
    },
    {
      "cell_type": "code",
      "metadata": {
        "id": "ldc7-IYgv84w"
      },
      "source": [
        "lda_pred = lda.predict(X_test)"
      ],
      "execution_count": null,
      "outputs": []
    },
    {
      "cell_type": "code",
      "metadata": {
        "id": "qoiQJRPWwIXm",
        "colab": {
          "base_uri": "https://localhost:8080/"
        },
        "outputId": "6ef83fa3-1420-462e-cd70-4be4b2b34c55"
      },
      "source": [
        "print(confusion_matrix(y_test,lda_pred))\n",
        "print(classification_report(y_test, lda_pred))"
      ],
      "execution_count": null,
      "outputs": [
        {
          "output_type": "stream",
          "text": [
            "[[21  5]\n",
            " [ 3 21]]\n",
            "              precision    recall  f1-score   support\n",
            "\n",
            "           0       0.88      0.81      0.84        26\n",
            "           1       0.81      0.88      0.84        24\n",
            "\n",
            "    accuracy                           0.84        50\n",
            "   macro avg       0.84      0.84      0.84        50\n",
            "weighted avg       0.84      0.84      0.84        50\n",
            "\n"
          ],
          "name": "stdout"
        }
      ]
    },
    {
      "cell_type": "code",
      "metadata": {
        "id": "bHU6UDcVEa2N"
      },
      "source": [
        "probs_lda = lda.predict_proba(X_test)"
      ],
      "execution_count": null,
      "outputs": []
    },
    {
      "cell_type": "code",
      "metadata": {
        "id": "eM42_XM_EgJV"
      },
      "source": [
        "probs_lda = probs_lda[:, 1]"
      ],
      "execution_count": null,
      "outputs": []
    },
    {
      "cell_type": "code",
      "metadata": {
        "id": "_C-tCJgyEgeC",
        "colab": {
          "base_uri": "https://localhost:8080/"
        },
        "outputId": "0c0a7689-2246-4648-c057-59591c075631"
      },
      "source": [
        "auc_lda = roc_auc_score(y_test, probs_lda)\n",
        "print('AUC: %.2f' % auc_lda)"
      ],
      "execution_count": null,
      "outputs": [
        {
          "output_type": "stream",
          "text": [
            "AUC: 0.91\n"
          ],
          "name": "stdout"
        }
      ]
    },
    {
      "cell_type": "code",
      "metadata": {
        "id": "ImgQlL2HEgGW"
      },
      "source": [
        "fpr, tpr, thresholds = roc_curve(y_test, probs_lda)"
      ],
      "execution_count": null,
      "outputs": []
    },
    {
      "cell_type": "code",
      "metadata": {
        "id": "CyhBtVcJEgDJ",
        "colab": {
          "base_uri": "https://localhost:8080/"
        },
        "outputId": "7cf84dd1-fc4a-4127-cc8e-d322014f7e5f"
      },
      "source": [
        "plot_roc_curve(fpr, tpr)"
      ],
      "execution_count": null,
      "outputs": [
        {
          "output_type": "display_data",
          "data": {
            "image/png": "[encoded data removed]",
            "text/plain": [
              "<Figure size 432x288 with 1 Axes>"
            ]
          },
          "metadata": {
            "tags": [],
            "needs_background": "light"
          }
        }
      ]
    },
    {
      "cell_type": "markdown",
      "metadata": {
        "id": "Z-Cq5zHQvxAZ"
      },
      "source": [
        "#Decision Tree Analysis"
      ]
    },
    {
      "cell_type": "code",
      "metadata": {
        "id": "m5r8np7Kv-dX"
      },
      "source": [
        "dtree = DecisionTreeClassifier()"
      ],
      "execution_count": null,
      "outputs": []
    },
    {
      "cell_type": "code",
      "metadata": {
        "id": "Sh60ddJznUmu"
      },
      "source": [
        "clf = dtree.fit(X_train, y_train)"
      ],
      "execution_count": null,
      "outputs": []
    },
    {
      "cell_type": "code",
      "metadata": {
        "id": "HOFEx39XwJ3R"
      },
      "source": [
        "predictions = dtree.predict(X_test)"
      ],
      "execution_count": null,
      "outputs": []
    },
    {
      "cell_type": "code",
      "metadata": {
        "id": "6vGd2Vy-wMtp",
        "colab": {
          "base_uri": "https://localhost:8080/",
          "height": 211
        },
        "outputId": "45e60dab-7b24-4879-d169-755dd0ceb460"
      },
      "source": [
        "print(confusion_matrix(y_test,predictions))\n",
        "print(classification_report(y_test, predictions))\n"
      ],
      "execution_count": null,
      "outputs": [
        {
          "output_type": "stream",
          "text": [
            "[[23  3]\n",
            " [ 0 24]]\n",
            "              precision    recall  f1-score   support\n",
            "\n",
            "           0       1.00      0.88      0.94        26\n",
            "           1       0.89      1.00      0.94        24\n",
            "\n",
            "    accuracy                           0.94        50\n",
            "   macro avg       0.94      0.94      0.94        50\n",
            "weighted avg       0.95      0.94      0.94        50\n",
            "\n"
          ],
          "name": "stdout"
        }
      ]
    },
    {
      "cell_type": "code",
      "metadata": {
        "id": "lycVdCwHf0cR",
        "colab": {
          "base_uri": "https://localhost:8080/",
          "height": 295
        },
        "outputId": "d98b1994-b178-415e-b6cd-329ec46b806f"
      },
      "source": [
        "skplt.metrics.plot_confusion_matrix(y_test, predictions, normalize=False)\n",
        "plt.show()"
      ],
      "execution_count": null,
      "outputs": [
        {
          "output_type": "display_data",
          "data": {
            "image/png": "[encoded data removed]",
            "text/plain": [
              "<Figure size 432x288 with 2 Axes>"
            ]
          },
          "metadata": {
            "tags": [],
            "needs_background": "light"
          }
        }
      ]
    },
    {
      "cell_type": "code",
      "metadata": {
        "id": "DUx3lHbgrhBk",
        "colab": {
          "base_uri": "https://localhost:8080/",
          "height": 295
        },
        "outputId": "53125d4a-5656-4750-90ae-525a5375ee86"
      },
      "source": [
        "skplt.metrics.plot_confusion_matrix(y_test, predictions, normalize=True)\n",
        "plt.show()"
      ],
      "execution_count": null,
      "outputs": [
        {
          "output_type": "display_data",
          "data": {
            "image/png": "[encoded data removed]",
            "text/plain": [
              "<Figure size 432x288 with 2 Axes>"
            ]
          },
          "metadata": {
            "tags": [],
            "needs_background": "light"
          }
        }
      ]
    },
    {
      "cell_type": "code",
      "metadata": {
        "id": "PHz7Wbc6nuJ1"
      },
      "source": [
        "features = list(X.columns[:])"
      ],
      "execution_count": null,
      "outputs": []
    },
    {
      "cell_type": "code",
      "metadata": {
        "id": "UeqD1pxNqeSh"
      },
      "source": [
        "dot_data = StringIO()"
      ],
      "execution_count": null,
      "outputs": []
    },
    {
      "cell_type": "code",
      "metadata": {
        "id": "nWc29jwdqy7Y"
      },
      "source": [
        "export_graphviz(dtree, out_file=dot_data, feature_names=features, filled=True, rounded=True)"
      ],
      "execution_count": null,
      "outputs": []
    },
    {
      "cell_type": "code",
      "metadata": {
        "id": "F-o-qNANqzEk"
      },
      "source": [
        "graph = pydot.graph_from_dot_data(dot_data.getvalue())"
      ],
      "execution_count": null,
      "outputs": []
    },
    {
      "cell_type": "code",
      "metadata": {
        "id": "oSG7EbyXqzHm",
        "colab": {
          "base_uri": "https://localhost:8080/",
          "height": 792
        },
        "outputId": "2cb69670-8c4b-450c-d289-87413ab8d98e"
      },
      "source": [
        "Image(graph[0].create_png())"
      ],
      "execution_count": null,
      "outputs": [
        {
          "output_type": "execute_result",
          "data": {
            "image/png": "[encoded data removed]",
            "text/plain": [
              "<IPython.core.display.Image object>"
            ]
          },
          "metadata": {
            "tags": []
          },
          "execution_count": 65
        }
      ]
    },
    {
      "cell_type": "code",
      "metadata": {
        "id": "v9ovbJ0LCQfB"
      },
      "source": [
        "probs_dtree = dtree.predict_proba(X_test)"
      ],
      "execution_count": null,
      "outputs": []
    },
    {
      "cell_type": "code",
      "metadata": {
        "id": "MGaTk-cdCRKk"
      },
      "source": [
        "probs_dtree = probs_dtree[:, 1]"
      ],
      "execution_count": null,
      "outputs": []
    },
    {
      "cell_type": "code",
      "metadata": {
        "id": "UcqSO3hiCRHe",
        "colab": {
          "base_uri": "https://localhost:8080/",
          "height": 35
        },
        "outputId": "a7aae367-21f4-4efd-c314-1d4a8567dcba"
      },
      "source": [
        "auc_dtree = roc_auc_score(y_test, probs_dtree)\n",
        "print('AUC: %.2f' % auc_dtree)"
      ],
      "execution_count": null,
      "outputs": [
        {
          "output_type": "stream",
          "text": [
            "AUC: 0.94\n"
          ],
          "name": "stdout"
        }
      ]
    },
    {
      "cell_type": "code",
      "metadata": {
        "id": "CGrzMDH2CRFD"
      },
      "source": [
        "fpr, tpr, thresholds = roc_curve(y_test, probs_dtree)"
      ],
      "execution_count": null,
      "outputs": []
    },
    {
      "cell_type": "code",
      "metadata": {
        "id": "3zpyhFyiCRCd",
        "colab": {
          "base_uri": "https://localhost:8080/",
          "height": 295
        },
        "outputId": "88e21e27-4a68-4be6-bd51-d99a88e02809"
      },
      "source": [
        "plot_roc_curve(fpr, tpr)"
      ],
      "execution_count": null,
      "outputs": [
        {
          "output_type": "display_data",
          "data": {
            "image/png": "[encoded data removed]",
            "text/plain": [
              "<Figure size 432x288 with 1 Axes>"
            ]
          },
          "metadata": {
            "tags": [],
            "needs_background": "light"
          }
        }
      ]
    },
    {
      "cell_type": "markdown",
      "metadata": {
        "id": "0-aubKWinuyJ"
      },
      "source": [
        "#Random Forest"
      ]
    },
    {
      "cell_type": "code",
      "metadata": {
        "id": "_A59x3Qlnx7w"
      },
      "source": [
        "rfc = RandomForestClassifier(n_estimators=200)"
      ],
      "execution_count": null,
      "outputs": []
    },
    {
      "cell_type": "code",
      "metadata": {
        "id": "FPNRrw95oEJ6",
        "colab": {
          "base_uri": "https://localhost:8080/",
          "height": 158
        },
        "outputId": "0d8392e8-e790-4252-fb10-207c3250f4ce"
      },
      "source": [
        "rfc.fit(X_train, y_train)"
      ],
      "execution_count": null,
      "outputs": [
        {
          "output_type": "execute_result",
          "data": {
            "text/plain": [
              "RandomForestClassifier(bootstrap=True, ccp_alpha=0.0, class_weight=None,\n",
              "                       criterion='gini', max_depth=None, max_features='auto',\n",
              "                       max_leaf_nodes=None, max_samples=None,\n",
              "                       min_impurity_decrease=0.0, min_impurity_split=None,\n",
              "                       min_samples_leaf=1, min_samples_split=2,\n",
              "                       min_weight_fraction_leaf=0.0, n_estimators=200,\n",
              "                       n_jobs=None, oob_score=False, random_state=None,\n",
              "                       verbose=0, warm_start=False)"
            ]
          },
          "metadata": {
            "tags": []
          },
          "execution_count": 72
        }
      ]
    },
    {
      "cell_type": "code",
      "metadata": {
        "id": "tuP_W3xwoOqf"
      },
      "source": [
        "rfc_pred = rfc.predict(X_test)"
      ],
      "execution_count": null,
      "outputs": []
    },
    {
      "cell_type": "code",
      "metadata": {
        "id": "KuXqtB5-oV6J",
        "colab": {
          "base_uri": "https://localhost:8080/",
          "height": 211
        },
        "outputId": "6f3fec03-74e1-4f30-d47f-6770bca0a733"
      },
      "source": [
        "print(confusion_matrix(y_test,rfc_pred))\n",
        "print(classification_report(y_test, rfc_pred))"
      ],
      "execution_count": null,
      "outputs": [
        {
          "output_type": "stream",
          "text": [
            "[[25  1]\n",
            " [ 0 24]]\n",
            "              precision    recall  f1-score   support\n",
            "\n",
            "           0       1.00      0.96      0.98        26\n",
            "           1       0.96      1.00      0.98        24\n",
            "\n",
            "    accuracy                           0.98        50\n",
            "   macro avg       0.98      0.98      0.98        50\n",
            "weighted avg       0.98      0.98      0.98        50\n",
            "\n"
          ],
          "name": "stdout"
        }
      ]
    },
    {
      "cell_type": "code",
      "metadata": {
        "id": "ysxar_9QrmA1",
        "colab": {
          "base_uri": "https://localhost:8080/",
          "height": 295
        },
        "outputId": "7d334a7b-3def-4a48-9f3e-4004d7e529f1"
      },
      "source": [
        "skplt.metrics.plot_confusion_matrix(y_test, predictions, normalize=False)\n",
        "plt.show()"
      ],
      "execution_count": null,
      "outputs": [
        {
          "output_type": "display_data",
          "data": {
            "image/png": "[encoded data removed]",
            "text/plain": [
              "<Figure size 432x288 with 2 Axes>"
            ]
          },
          "metadata": {
            "tags": [],
            "needs_background": "light"
          }
        }
      ]
    },
    {
      "cell_type": "code",
      "metadata": {
        "id": "igV4HG7grmhH",
        "colab": {
          "base_uri": "https://localhost:8080/",
          "height": 295
        },
        "outputId": "01115f0f-d330-43ff-c55b-47777a59ce2c"
      },
      "source": [
        "skplt.metrics.plot_confusion_matrix(y_test, predictions, normalize=True)\n",
        "plt.show()"
      ],
      "execution_count": null,
      "outputs": [
        {
          "output_type": "display_data",
          "data": {
            "image/png": "[encoded data removed]",
            "text/plain": [
              "<Figure size 432x288 with 2 Axes>"
            ]
          },
          "metadata": {
            "tags": [],
            "needs_background": "light"
          }
        }
      ]
    },
    {
      "cell_type": "code",
      "metadata": {
        "id": "vkedDMYqBh6K"
      },
      "source": [
        "probs = rfc.predict_proba(X_test)"
      ],
      "execution_count": null,
      "outputs": []
    },
    {
      "cell_type": "code",
      "metadata": {
        "id": "A7RPPNsqBiKs"
      },
      "source": [
        "probs = probs[:, 1]"
      ],
      "execution_count": null,
      "outputs": []
    },
    {
      "cell_type": "code",
      "metadata": {
        "id": "MBjhaCfdBiNX",
        "colab": {
          "base_uri": "https://localhost:8080/",
          "height": 35
        },
        "outputId": "f271097a-682b-4d5c-89bc-9abf48ed9f27"
      },
      "source": [
        "auc = roc_auc_score(y_test, probs)\n",
        "print('AUC: %.2f' % auc)"
      ],
      "execution_count": null,
      "outputs": [
        {
          "output_type": "stream",
          "text": [
            "AUC: 1.00\n"
          ],
          "name": "stdout"
        }
      ]
    },
    {
      "cell_type": "code",
      "metadata": {
        "id": "W3upyH_aBiQG"
      },
      "source": [
        "fpr, tpr, thresholds = roc_curve(y_test, probs)"
      ],
      "execution_count": null,
      "outputs": []
    },
    {
      "cell_type": "code",
      "metadata": {
        "id": "aTK4U7vZB-GM",
        "colab": {
          "base_uri": "https://localhost:8080/",
          "height": 295
        },
        "outputId": "25ba55d2-00f3-4daa-b598-bf2e1da96855"
      },
      "source": [
        "plot_roc_curve(fpr, tpr)"
      ],
      "execution_count": null,
      "outputs": [
        {
          "output_type": "display_data",
          "data": {
            "image/png": "[encoded data removed]",
            "text/plain": [
              "<Figure size 432x288 with 1 Axes>"
            ]
          },
          "metadata": {
            "tags": [],
            "needs_background": "light"
          }
        }
      ]
    },
    {
      "cell_type": "code",
      "metadata": {
        "id": "smMvOBoLB_vP"
      },
      "source": [
        ""
      ],
      "execution_count": null,
      "outputs": []
    },
    {
      "cell_type": "markdown",
      "metadata": {
        "id": "Vooa0ZP1HzvM"
      },
      "source": [
        "#َALL(X)"
      ]
    },
    {
      "cell_type": "code",
      "metadata": {
        "id": "AsTDZKhNH3Ag"
      },
      "source": [
        "# Instantiate the classfiers and make a list\n",
        "classifiers = [KNeighborsClassifier(n_neighbors=5),\n",
        "               LinearDiscriminantAnalysis(), \n",
        "               DecisionTreeClassifier(random_state=101),\n",
        "               RandomForestClassifier(random_state=101)]\n",
        "\n",
        "# Define a result table as a DataFrame\n",
        "result_table = pd.DataFrame(columns=['classifiers', 'fpr','tpr','auc'])\n",
        "\n",
        "# Train the models and record the results\n",
        "for cls in classifiers:\n",
        "    model = cls.fit(X_train, y_train)\n",
        "    yproba = model.predict_proba(X_test)[::,1]\n",
        "    \n",
        "    fpr, tpr, _ = roc_curve(y_test,  yproba)\n",
        "    auc = roc_auc_score(y_test, yproba)\n",
        "    \n",
        "    result_table = result_table.append({'classifiers':cls.__class__.__name__,\n",
        "                                        'fpr':fpr, \n",
        "                                        'tpr':tpr, \n",
        "                                        'auc':auc}, ignore_index=True)\n",
        "\n",
        "# Set name of the classifiers as index labels\n",
        "result_table.set_index('classifiers', inplace=True)"
      ],
      "execution_count": null,
      "outputs": []
    },
    {
      "cell_type": "code",
      "metadata": {
        "id": "Sc73bmK6H5B8",
        "colab": {
          "base_uri": "https://localhost:8080/",
          "height": 411
        },
        "outputId": "d4af08cb-39f3-4d2a-8cb6-7d400f44aa37"
      },
      "source": [
        "fig = plt.figure(figsize=(8,6))\n",
        "\n",
        "for i in result_table.index:\n",
        "    plt.plot(result_table.loc[i]['fpr'], \n",
        "             result_table.loc[i]['tpr'], \n",
        "             label=\"{}, AUC={:.3f}\".format(i, result_table.loc[i]['auc']))\n",
        "    \n",
        "plt.plot([0,1], [0,1], color='orange', linestyle='--')\n",
        "\n",
        "plt.xticks(np.arange(0.0, 1.1, step=0.1))\n",
        "plt.xlabel(\"Flase Positive Rate\", fontsize=15)\n",
        "\n",
        "plt.yticks(np.arange(0.0, 1.1, step=0.1))\n",
        "plt.ylabel(\"True Positive Rate\", fontsize=15)\n",
        "\n",
        "plt.title('ROC Curve Analysis', fontweight='bold', fontsize=15)\n",
        "plt.legend(prop={'size':13}, loc='lower right')\n",
        "plt.savefig('ROC ALL.png', dpi=520, format='png', bbox_inches='tight')\n",
        "plt.show()"
      ],
      "execution_count": null,
      "outputs": [
        {
          "output_type": "display_data",
          "data": {
            "image/png": "[encoded data removed]",
            "text/plain": [
              "<Figure size 576x432 with 1 Axes>"
            ]
          },
          "metadata": {
            "tags": [],
            "needs_background": "light"
          }
        }
      ]
    },
    {
      "cell_type": "code",
      "metadata": {
        "id": "C2_WaruUbhqU",
        "colab": {
          "base_uri": "https://localhost:8080/",
          "height": 313
        },
        "outputId": "d34131d1-09c7-4a31-a4cf-448d5b1cadd5"
      },
      "source": [
        "import scikitplot as skplt\n",
        "knn = KNeighborsClassifier(n_neighbors=5)\n",
        "lda = LinearDiscriminantAnalysis()\n",
        "dt = DecisionTreeClassifier(random_state=101)\n",
        "rf = RandomForestClassifier(random_state=101)\n",
        "knn_probas = knn.fit(X_train, y_train).predict_proba(X_test)\n",
        "lda_probas = lda.fit(X_train, y_train).predict_proba(X_test)\n",
        "dt_probas = dt.fit(X_train, y_train).predict_proba(X_test)\n",
        "rf_probas = rf.fit(X_train, y_train).predict_proba(X_test)\n",
        "probas_list = [knn_probas, lda_probas, dt_probas, rf_probas]\n",
        "clf_names = ['KNN', 'LDA', 'DecisionTree', 'RandomForest']\n",
        "plt.figure(figsize=(15,10))\n",
        "skplt.metrics.plot_calibration_curve(y_test, probas_list,clf_names)\n",
        "plt.savefig('calibration plot.png', dpi=520, format='png', bbox_inches='tight')\n",
        "plt.show()"
      ],
      "execution_count": null,
      "outputs": [
        {
          "output_type": "display_data",
          "data": {
            "text/plain": [
              "<Figure size 1080x720 with 0 Axes>"
            ]
          },
          "metadata": {
            "tags": []
          }
        },
        {
          "output_type": "display_data",
          "data": {
            "image/png": "[encoded data removed]",
            "text/plain": [
              "<Figure size 432x288 with 1 Axes>"
            ]
          },
          "metadata": {
            "tags": [],
            "needs_background": "light"
          }
        }
      ]
    }
  ]
}